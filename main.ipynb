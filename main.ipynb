{
 "metadata": {
  "language_info": {
   "codemirror_mode": {
    "name": "ipython",
    "version": 3
   },
   "file_extension": ".py",
   "mimetype": "text/x-python",
   "name": "python",
   "nbconvert_exporter": "python",
   "pygments_lexer": "ipython3",
   "version": 3
  },
  "orig_nbformat": 2,
  "kernelspec": {
   "name": "python_defaultSpec_1596094234754",
   "display_name": "Python 3.7.4 64-bit"
  }
 },
 "nbformat": 4,
 "nbformat_minor": 2,
 "cells": [
  {
   "cell_type": "code",
   "execution_count": null,
   "metadata": {},
   "outputs": [],
   "source": [
    "import pandas as pd\n",
    "# Python modules used for API access...\n",
    "from chembl_webresource_client.new_client import new_client\n",
    "from tqdm import tqdm\n",
    "import pickle\n",
    "import numpy as np\n",
    "from functions import PROCESS"
   ]
  },
  {
   "cell_type": "code",
   "execution_count": null,
   "metadata": {},
   "outputs": [],
   "source": [
    "\"\"\"\n",
    "Module I: Data retrieval and processing\n",
    "Use this block to retrieve/process your data by providing a drug file\n",
    "\"\"\"\n",
    "drugs = pd.read_csv('data/KIBA_drugs.csv')\n",
    "\n",
    "# Initialize PROCESS object\n",
    "obj = PROCESS(drugs)\n",
    "# Step 1: Extaract terget data for 52k drugs from CHEMBL\n",
    "main_dict = obj.extractDrugTargets(drugs['drugs'].tolist())\n",
    "obj.save_obj(main_dict, 'data/main_dict.pkl')\n",
    "\n",
    "# Step 2: Extract Drug-Target pairs for Homo-Sapiens with IC50 values\n",
    "DTI = obj.getDTI(main_dict)\n",
    "\n",
    "# Step 3: Get mapping from CHEMBL to uniprot and save at data/out.txt\n",
    "obj.chembl2uniprot('data/DTI.csv', 'data/out.txt')\n",
    "\n",
    "# Step 4: Screen Data based on units, sequence-availiability\n",
    "final_DTI = obj.screenDTI(DTI, 'data/chembl2uniprot.txt', 'final_clean_DTI.csv')"
   ]
  },
  {
   "cell_type": "code",
   "execution_count": null,
   "metadata": {},
   "outputs": [],
   "source": [
    "\"\"\"\n",
    "Module II: Feature retrieval and processing\n",
    "Use this block to retrieve/process your data by providing a drug file\n",
    "\"\"\"\n",
    "# Extract drug descriptors\n",
    "attribs = [\n",
    "      'MaxAbsPartialCharge', 'MinPartialCharge', 'MinAbsPartialCharge', 'HeavyAtomMolWt', 'MaxAbsEStateIndex', 'NumRadicalElectrons',\n",
    "      'NumValenceElectrons', 'MinAbsEStateIndex', 'MaxEStateIndex', 'MaxPartialCharge', 'MinEStateIndex', 'ExactMolWt', 'MolWt', 'BalabanJ',\n",
    "      'BertzCT', 'Chi0', 'Chi0n', 'Chi0v', 'Chi1', 'Chi1n', 'Chi1v', 'Chi2n', 'Chi2v', 'Chi3n', 'Chi3v', 'Chi4n', 'Chi4v',\n",
    "      'HallKierAlpha', 'Ipc', 'Kappa1', 'Kappa2', 'Kappa3', 'LabuteASA', 'PEOE_VSA1', 'PEOE_VSA10', 'PEOE_VSA11', 'PEOE_VSA12', 'PEOE_VSA13', \n",
    "      'PEOE_VSA14', 'PEOE_VSA2', 'PEOE_VSA3', 'PEOE_VSA4', 'PEOE_VSA5', 'PEOE_VSA6', 'PEOE_VSA7', 'PEOE_VSA8', 'PEOE_VSA9', 'SMR_VSA1',\n",
    "      'SMR_VSA10', 'SMR_VSA2', 'SMR_VSA3', 'SMR_VSA4', 'SMR_VSA5', 'SMR_VSA6', 'SMR_VSA7', 'SMR_VSA8', 'SMR_VSA9', 'SlogP_VSA1', 'SlogP_VSA10', 'SlogP_VSA11', 'SlogP_VSA12',      'SlogP_VSA2','SlogP_VSA3', 'SlogP_VSA4', 'SlogP_VSA5', 'SlogP_VSA6', 'SlogP_VSA7', 'SlogP_VSA8', 'SlogP_VSA9', 'TPSA', 'EState_VSA1', 'EState_VSA10', \n",
    "      'EState_VSA11', 'EState_VSA2',      'EState_VSA3', 'EState_VSA4', 'EState_VSA5', 'EState_VSA6', 'EState_VSA7', 'EState_VSA8', 'EState_VSA9',\n",
    "      'VSA_EState1', 'VSA_EState10', 'VSA_EState2', 'VSA_EState3', 'VSA_EState4', 'VSA_EState5', 'VSA_EState6', 'VSA_EState7', 'VSA_EState8',\n",
    "      'VSA_EState9', 'FractionCSP3', 'HeavyAtomCount', 'NHOHCount', 'NOCount', 'NumAliphaticCarbocycles', 'NumAliphaticHeterocycles',\n",
    "      'NumAliphaticRings', 'NumAromaticCarbocycles', 'NumAromaticHeterocycles', 'NumAromaticRings', 'NumHAcceptors', 'NumHDonors', 'NumHeteroatoms',\n",
    "      'NumRotatableBonds', 'NumSaturatedCarbocycles','NumSaturatedHeterocycles', 'NumSaturatedRings', 'RingCount', 'MolLogP', 'MolMR'\n",
    "    ]\n",
    "\n",
    "fset_mol=pd.DataFrame()\n",
    "for chembl_id in tqdm(drugs['drugs']):\n",
    "    descriptors, status = obj.mol2des(chembl_id, attribs)\n",
    "    if status:\n",
    "        fset_mol = fset_mol.append(descriptors)\n",
    "fset_mol.to_csv('fset_drugs.csv')\n",
    "\n",
    "# Extract protein descriptors\n",
    "des = obj.extractProteinDes('AAC', 'data/chembl2uniprot.txt')"
   ]
  },
  {
   "cell_type": "code",
   "execution_count": 4,
   "metadata": {
    "tags": []
   },
   "outputs": [],
   "source": [
    "# Instead, load drug_target dictionary\n",
    "main_dict = obj.load_obj('data/drug_target.pkl')"
   ]
  },
  {
   "cell_type": "code",
   "execution_count": null,
   "metadata": {},
   "outputs": [],
   "source": []
  }
 ]
}