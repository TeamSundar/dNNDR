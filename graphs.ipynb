{
  "nbformat": 4,
  "nbformat_minor": 0,
  "metadata": {
    "colab": {
      "name": "graphs.ipynb",
      "provenance": []
    },
    "kernelspec": {
      "name": "python3",
      "display_name": "Python 3"
    },
    "accelerator": "GPU"
  },
  "cells": [
    {
      "cell_type": "code",
      "metadata": {
        "id": "P9GMbnyIXZQU",
        "colab_type": "code",
        "colab": {}
      },
      "source": [
        "import numpy as np\n",
        "import pandas as pd"
      ],
      "execution_count": 1,
      "outputs": []
    },
    {
      "cell_type": "code",
      "metadata": {
        "id": "j3P_D8gZ9BtU",
        "colab_type": "code",
        "colab": {}
      },
      "source": [
        "import matplotlib.pyplot as plt"
      ],
      "execution_count": 2,
      "outputs": []
    },
    {
      "cell_type": "code",
      "metadata": {
        "id": "ipjVWSubv1fD",
        "colab_type": "code",
        "colab": {}
      },
      "source": [
        "import sys\n",
        "sys.path.append('/usr/local/lib/python3.7/site-packages/')"
      ],
      "execution_count": 3,
      "outputs": []
    },
    {
      "cell_type": "code",
      "metadata": {
        "id": "Kur2xm7kZFgY",
        "colab_type": "code",
        "colab": {}
      },
      "source": [
        "data = pd.read_csv('both.csv')"
      ],
      "execution_count": 4,
      "outputs": []
    },
    {
      "cell_type": "code",
      "metadata": {
        "id": "48QjqQ9bZTgc",
        "colab_type": "code",
        "colab": {}
      },
      "source": [
        "#data.drop()"
      ],
      "execution_count": 3,
      "outputs": []
    },
    {
      "cell_type": "code",
      "metadata": {
        "id": "TX7DBWk5ZUgt",
        "colab_type": "code",
        "colab": {
          "base_uri": "https://localhost:8080/",
          "height": 836
        },
        "outputId": "77eba5c6-28fe-48c7-e2dc-38a6ce65f61c"
      },
      "source": [
        "!pip install spektral"
      ],
      "execution_count": 8,
      "outputs": [
        {
          "output_type": "stream",
          "text": [
            "Requirement already satisfied: spektral in /usr/local/lib/python3.7/site-packages (0.6.0)\n",
            "Requirement already satisfied: scipy in /usr/local/lib/python3.7/site-packages (from spektral) (1.3.1)\n",
            "Requirement already satisfied: pandas in /usr/local/lib/python3.7/site-packages (from spektral) (0.25.1)\n",
            "Requirement already satisfied: tensorflow>=2.1.0 in /usr/local/lib/python3.7/site-packages (from spektral) (2.3.0)\n",
            "Requirement already satisfied: requests in /usr/local/lib/python3.7/site-packages (from spektral) (2.22.0)\n",
            "Requirement already satisfied: lxml in /usr/local/lib/python3.7/site-packages (from spektral) (4.4.1)\n",
            "Requirement already satisfied: scikit-learn in /usr/local/lib/python3.7/site-packages (from spektral) (0.21.3)\n",
            "Requirement already satisfied: networkx in /usr/local/lib/python3.7/site-packages (from spektral) (2.3)\n",
            "Requirement already satisfied: numpy in /usr/local/lib/python3.7/site-packages (from spektral) (1.17.2)\n",
            "Requirement already satisfied: joblib in /usr/local/lib/python3.7/site-packages (from spektral) (0.13.2)\n",
            "Requirement already satisfied: pytz>=2017.2 in /usr/local/lib/python3.7/site-packages (from pandas->spektral) (2019.3)\n",
            "Requirement already satisfied: python-dateutil>=2.6.1 in /usr/local/lib/python3.7/site-packages (from pandas->spektral) (2.8.0)\n",
            "Requirement already satisfied: keras-preprocessing<1.2,>=1.1.1 in /usr/local/lib/python3.7/site-packages (from tensorflow>=2.1.0->spektral) (1.1.2)\n",
            "Requirement already satisfied: protobuf>=3.9.2 in /usr/local/lib/python3.7/site-packages (from tensorflow>=2.1.0->spektral) (3.12.4)\n",
            "Requirement already satisfied: h5py<2.11.0,>=2.10.0 in /usr/local/lib/python3.7/site-packages (from tensorflow>=2.1.0->spektral) (2.10.0)\n",
            "Requirement already satisfied: tensorboard<3,>=2.3.0 in /usr/local/lib/python3.7/site-packages (from tensorflow>=2.1.0->spektral) (2.3.0)\n",
            "Requirement already satisfied: opt-einsum>=2.3.2 in /usr/local/lib/python3.7/site-packages (from tensorflow>=2.1.0->spektral) (3.3.0)\n",
            "Requirement already satisfied: wrapt>=1.11.1 in /usr/local/lib/python3.7/site-packages (from tensorflow>=2.1.0->spektral) (1.11.2)\n",
            "Requirement already satisfied: tensorflow-estimator<2.4.0,>=2.3.0 in /usr/local/lib/python3.7/site-packages (from tensorflow>=2.1.0->spektral) (2.3.0)\n",
            "Requirement already satisfied: absl-py>=0.7.0 in /usr/local/lib/python3.7/site-packages (from tensorflow>=2.1.0->spektral) (0.9.0)\n",
            "Requirement already satisfied: wheel>=0.26 in /usr/local/lib/python3.7/site-packages (from tensorflow>=2.1.0->spektral) (0.33.6)\n",
            "Requirement already satisfied: gast==0.3.3 in /usr/local/lib/python3.7/site-packages (from tensorflow>=2.1.0->spektral) (0.3.3)\n",
            "Requirement already satisfied: google-pasta>=0.1.8 in /usr/local/lib/python3.7/site-packages (from tensorflow>=2.1.0->spektral) (0.2.0)\n",
            "Requirement already satisfied: termcolor>=1.1.0 in /usr/local/lib/python3.7/site-packages (from tensorflow>=2.1.0->spektral) (1.1.0)\n",
            "Requirement already satisfied: grpcio>=1.8.6 in /usr/local/lib/python3.7/site-packages (from tensorflow>=2.1.0->spektral) (1.30.0)\n",
            "Requirement already satisfied: astunparse==1.6.3 in /usr/local/lib/python3.7/site-packages (from tensorflow>=2.1.0->spektral) (1.6.3)\n",
            "Requirement already satisfied: six>=1.12.0 in /usr/local/lib/python3.7/site-packages (from tensorflow>=2.1.0->spektral) (1.12.0)\n",
            "Requirement already satisfied: idna<2.9,>=2.5 in /usr/local/lib/python3.7/site-packages (from requests->spektral) (2.8)\n",
            "Requirement already satisfied: chardet<3.1.0,>=3.0.2 in /usr/local/lib/python3.7/site-packages (from requests->spektral) (3.0.4)\n",
            "Requirement already satisfied: certifi>=2017.4.17 in /usr/local/lib/python3.7/site-packages (from requests->spektral) (2019.9.11)\n",
            "Requirement already satisfied: urllib3!=1.25.0,!=1.25.1,<1.26,>=1.21.1 in /usr/local/lib/python3.7/site-packages (from requests->spektral) (1.24.2)\n",
            "Requirement already satisfied: decorator>=4.3.0 in /usr/local/lib/python3.7/site-packages (from networkx->spektral) (4.4.0)\n",
            "Requirement already satisfied: setuptools in /usr/local/lib/python3.7/site-packages (from protobuf>=3.9.2->tensorflow>=2.1.0->spektral) (41.4.0)\n",
            "Requirement already satisfied: google-auth-oauthlib<0.5,>=0.4.1 in /usr/local/lib/python3.7/site-packages (from tensorboard<3,>=2.3.0->tensorflow>=2.1.0->spektral) (0.4.1)\n",
            "Requirement already satisfied: markdown>=2.6.8 in /usr/local/lib/python3.7/site-packages (from tensorboard<3,>=2.3.0->tensorflow>=2.1.0->spektral) (3.2.2)\n",
            "Requirement already satisfied: google-auth<2,>=1.6.3 in /usr/local/lib/python3.7/site-packages (from tensorboard<3,>=2.3.0->tensorflow>=2.1.0->spektral) (1.20.0)\n",
            "Requirement already satisfied: tensorboard-plugin-wit>=1.6.0 in /usr/local/lib/python3.7/site-packages (from tensorboard<3,>=2.3.0->tensorflow>=2.1.0->spektral) (1.7.0)\n",
            "Requirement already satisfied: werkzeug>=0.11.15 in /usr/local/lib/python3.7/site-packages (from tensorboard<3,>=2.3.0->tensorflow>=2.1.0->spektral) (0.16.0)\n",
            "Requirement already satisfied: requests-oauthlib>=0.7.0 in /usr/local/lib/python3.7/site-packages (from google-auth-oauthlib<0.5,>=0.4.1->tensorboard<3,>=2.3.0->tensorflow>=2.1.0->spektral) (1.3.0)\n",
            "Requirement already satisfied: importlib-metadata; python_version < \"3.8\" in /usr/local/lib/python3.7/site-packages (from markdown>=2.6.8->tensorboard<3,>=2.3.0->tensorflow>=2.1.0->spektral) (0.23)\n",
            "Requirement already satisfied: rsa<5,>=3.1.4; python_version >= \"3.5\" in /usr/local/lib/python3.7/site-packages (from google-auth<2,>=1.6.3->tensorboard<3,>=2.3.0->tensorflow>=2.1.0->spektral) (4.6)\n",
            "Requirement already satisfied: cachetools<5.0,>=2.0.0 in /usr/local/lib/python3.7/site-packages (from google-auth<2,>=1.6.3->tensorboard<3,>=2.3.0->tensorflow>=2.1.0->spektral) (4.1.1)\n",
            "Requirement already satisfied: pyasn1-modules>=0.2.1 in /usr/local/lib/python3.7/site-packages (from google-auth<2,>=1.6.3->tensorboard<3,>=2.3.0->tensorflow>=2.1.0->spektral) (0.2.8)\n",
            "Requirement already satisfied: oauthlib>=3.0.0 in /usr/local/lib/python3.7/site-packages (from requests-oauthlib>=0.7.0->google-auth-oauthlib<0.5,>=0.4.1->tensorboard<3,>=2.3.0->tensorflow>=2.1.0->spektral) (3.1.0)\n",
            "Requirement already satisfied: zipp>=0.5 in /usr/local/lib/python3.7/site-packages (from importlib-metadata; python_version < \"3.8\"->markdown>=2.6.8->tensorboard<3,>=2.3.0->tensorflow>=2.1.0->spektral) (0.6.0)\n",
            "Requirement already satisfied: pyasn1>=0.1.3 in /usr/local/lib/python3.7/site-packages (from rsa<5,>=3.1.4; python_version >= \"3.5\"->google-auth<2,>=1.6.3->tensorboard<3,>=2.3.0->tensorflow>=2.1.0->spektral) (0.4.8)\n",
            "Requirement already satisfied: more-itertools in /usr/local/lib/python3.7/site-packages (from zipp>=0.5->importlib-metadata; python_version < \"3.8\"->markdown>=2.6.8->tensorboard<3,>=2.3.0->tensorflow>=2.1.0->spektral) (7.2.0)\n"
          ],
          "name": "stdout"
        }
      ]
    },
    {
      "cell_type": "code",
      "metadata": {
        "id": "sYRBuZjt1cA7",
        "colab_type": "code",
        "colab": {}
      },
      "source": [
        "#startign graphcnn"
      ],
      "execution_count": 5,
      "outputs": []
    },
    {
      "cell_type": "code",
      "metadata": {
        "id": "jVFPN0A9d2bB",
        "colab_type": "code",
        "colab": {}
      },
      "source": [
        "import numpy as np\n",
        "from sklearn.model_selection import train_test_split\n",
        "from tensorflow.keras.layers import Input, Dense\n",
        "from tensorflow.keras.models import Model\n",
        "from tensorflow.keras.optimizers import Adam\n",
        "\n",
        "from spektral.datasets import qm9\n",
        "from spektral.layers import EdgeConditionedConv, GlobalSumPool\n",
        "from spektral.utils import label_to_one_hot\n",
        "from spektral.chem import sdf_to_nx"
      ],
      "execution_count": 23,
      "outputs": []
    },
    {
      "cell_type": "code",
      "metadata": {
        "id": "epOnw3iveUQ8",
        "colab_type": "code",
        "colab": {}
      },
      "source": [
        "################################################################################\n",
        "# PARAMETERS\n",
        "################################################################################\n",
        "learning_rate = 1e-3  # Learning rate\n",
        "epochs = 10           # Number of training epochs\n",
        "batch_size = 32           # Batch size"
      ],
      "execution_count": 7,
      "outputs": []
    },
    {
      "cell_type": "code",
      "metadata": {
        "id": "XRmGFEY11ljl",
        "colab_type": "code",
        "colab": {
          "base_uri": "https://localhost:8080/",
          "height": 51
        },
        "outputId": "850caaaf-04e0-496b-8c2a-346c0ea13829"
      },
      "source": [
        "################################################################################\n",
        "# LOAD DATA\n",
        "################################################################################\n",
        "A, X, E, y = qm9.load_data(return_type='numpy',\n",
        "                           nf_keys='atomic_num',\n",
        "                           ef_keys='type',\n",
        "                           self_loops=True,\n",
        "                           amount=None)  # Set to None to train on whole dataset\n",
        "y = y[['cv']].values  # Heat capacity at 298.15K"
      ],
      "execution_count": 26,
      "outputs": [
        {
          "output_type": "stream",
          "text": [
            "Loading QM9 dataset.\n",
            "Reading SDF\n"
          ],
          "name": "stdout"
        }
      ]
    },
    {
      "cell_type": "code",
      "metadata": {
        "id": "NjLMK1UP11QV",
        "colab_type": "code",
        "colab": {
          "base_uri": "https://localhost:8080/",
          "height": 34
        },
        "outputId": "96041eb8-6447-4a84-d866-41a30f0c5415"
      },
      "source": [
        "A.shape,X.shape,E.shape,y.shape"
      ],
      "execution_count": 27,
      "outputs": [
        {
          "output_type": "execute_result",
          "data": {
            "text/plain": [
              "((133885, 9, 9), (133885, 9, 1), (133885, 9, 9, 1), (133885, 1))"
            ]
          },
          "metadata": {
            "tags": []
          },
          "execution_count": 27
        }
      ]
    },
    {
      "cell_type": "code",
      "metadata": {
        "id": "ARdzs16E14Wt",
        "colab_type": "code",
        "colab": {}
      },
      "source": [
        "# Preprocessing\n",
        "X_uniq = np.unique(X)\n",
        "X_uniq = X_uniq[X_uniq != 0]\n",
        "E_uniq = np.unique(E)\n",
        "E_uniq = E_uniq[E_uniq != 0]\n",
        "\n",
        "X = label_to_one_hot(X, X_uniq)\n",
        "E = label_to_one_hot(E, E_uniq)"
      ],
      "execution_count": 28,
      "outputs": []
    },
    {
      "cell_type": "code",
      "metadata": {
        "id": "cRE2VDIr2xCS",
        "colab_type": "code",
        "colab": {}
      },
      "source": [
        "# Parameters\n",
        "N = X.shape[-2]       # Number of nodes in the graphs\n",
        "F = X[0].shape[-1]    # Dimension of node features\n",
        "S = E[0].shape[-1]    # Dimension of edge features\n",
        "n_out = y.shape[-1]   # Dimension of the target"
      ],
      "execution_count": 29,
      "outputs": []
    },
    {
      "cell_type": "code",
      "metadata": {
        "id": "_gYBRjaM21iW",
        "colab_type": "code",
        "colab": {}
      },
      "source": [
        "A_train, A_test, \\\n",
        "X_train, X_test, \\\n",
        "E_train, E_test, \\\n",
        "y_train, y_test = train_test_split(A, X, E, y, test_size=0.1, random_state=0)"
      ],
      "execution_count": 30,
      "outputs": []
    },
    {
      "cell_type": "code",
      "metadata": {
        "id": "qO-C-EWm_Yg8",
        "colab_type": "code",
        "colab": {}
      },
      "source": [
        "del model"
      ],
      "execution_count": 31,
      "outputs": []
    },
    {
      "cell_type": "code",
      "metadata": {
        "id": "OSFZ__q327rH",
        "colab_type": "code",
        "colab": {
          "base_uri": "https://localhost:8080/",
          "height": 459
        },
        "outputId": "02abf2a8-7683-4845-8785-d84ffbbedd05"
      },
      "source": [
        "################################################################################\n",
        "# BUILD MODEL\n",
        "################################################################################\n",
        "X_in = Input(shape=(N, F))\n",
        "A_in = Input(shape=(N, N))\n",
        "E_in = Input(shape=(N, N, S))\n",
        "\n",
        "X_1 = EdgeConditionedConv(32, activation='relu')([X_in, A_in, E_in])\n",
        "X_2 = EdgeConditionedConv(32, activation='relu')([X_1, A_in, E_in])\n",
        "X_3 = GlobalSumPool()(X_2)\n",
        "output = Dense(n_out)(X_3)\n",
        "\n",
        "# Build model\n",
        "model = Model(inputs=[X_in, A_in, E_in], outputs=output)\n",
        "optimizer = Adam(lr=learning_rate)\n",
        "model.compile(optimizer=optimizer, loss='mse')\n",
        "model.summary()"
      ],
      "execution_count": 32,
      "outputs": [
        {
          "output_type": "stream",
          "text": [
            "Model: \"model_1\"\n",
            "__________________________________________________________________________________________________\n",
            "Layer (type)                    Output Shape         Param #     Connected to                     \n",
            "==================================================================================================\n",
            "input_4 (InputLayer)            [(None, 9, 4)]       0                                            \n",
            "__________________________________________________________________________________________________\n",
            "input_5 (InputLayer)            [(None, 9, 9)]       0                                            \n",
            "__________________________________________________________________________________________________\n",
            "input_6 (InputLayer)            [(None, 9, 9, 3)]    0                                            \n",
            "__________________________________________________________________________________________________\n",
            "edge_conditioned_conv_2 (EdgeCo (None, 9, 32)        672         input_4[0][0]                    \n",
            "                                                                 input_5[0][0]                    \n",
            "                                                                 input_6[0][0]                    \n",
            "__________________________________________________________________________________________________\n",
            "edge_conditioned_conv_3 (EdgeCo (None, 9, 32)        5152        edge_conditioned_conv_2[0][0]    \n",
            "                                                                 input_5[0][0]                    \n",
            "                                                                 input_6[0][0]                    \n",
            "__________________________________________________________________________________________________\n",
            "global_sum_pool_1 (GlobalSumPoo (None, 32)           0           edge_conditioned_conv_3[0][0]    \n",
            "__________________________________________________________________________________________________\n",
            "dense_1 (Dense)                 (None, 1)            33          global_sum_pool_1[0][0]          \n",
            "==================================================================================================\n",
            "Total params: 5,857\n",
            "Trainable params: 5,857\n",
            "Non-trainable params: 0\n",
            "__________________________________________________________________________________________________\n"
          ],
          "name": "stdout"
        }
      ]
    },
    {
      "cell_type": "code",
      "metadata": {
        "id": "COlW9Vl93Fc1",
        "colab_type": "code",
        "colab": {
          "base_uri": "https://localhost:8080/",
          "height": 374
        },
        "outputId": "28156349-384b-45fd-8d9f-281a1926a288"
      },
      "source": [
        "################################################################################\n",
        "# FIT MODEL\n",
        "################################################################################\n",
        "model.fit([X_train, A_train, E_train],y_train,batch_size=batch_size,epochs=epochs)"
      ],
      "execution_count": 33,
      "outputs": [
        {
          "output_type": "stream",
          "text": [
            "Epoch 1/10\n",
            "3766/3766 [==============================] - 30s 8ms/step - loss: 6.3975\n",
            "Epoch 2/10\n",
            "3766/3766 [==============================] - 29s 8ms/step - loss: 0.6460\n",
            "Epoch 3/10\n",
            "3766/3766 [==============================] - 29s 8ms/step - loss: 0.5804\n",
            "Epoch 4/10\n",
            "3766/3766 [==============================] - 29s 8ms/step - loss: 0.5605\n",
            "Epoch 5/10\n",
            "3766/3766 [==============================] - 29s 8ms/step - loss: 0.5447\n",
            "Epoch 6/10\n",
            "3766/3766 [==============================] - 29s 8ms/step - loss: 0.5270\n",
            "Epoch 7/10\n",
            "3766/3766 [==============================] - 30s 8ms/step - loss: 0.5115\n",
            "Epoch 8/10\n",
            "3766/3766 [==============================] - 29s 8ms/step - loss: 0.5052\n",
            "Epoch 9/10\n",
            "3766/3766 [==============================] - 29s 8ms/step - loss: 0.4937\n",
            "Epoch 10/10\n",
            "3766/3766 [==============================] - 29s 8ms/step - loss: 0.4891\n"
          ],
          "name": "stdout"
        },
        {
          "output_type": "execute_result",
          "data": {
            "text/plain": [
              "<tensorflow.python.keras.callbacks.History at 0x7f4fb30faf98>"
            ]
          },
          "metadata": {
            "tags": []
          },
          "execution_count": 33
        }
      ]
    },
    {
      "cell_type": "code",
      "metadata": {
        "id": "so_nbmW23RMR",
        "colab_type": "code",
        "colab": {
          "base_uri": "https://localhost:8080/",
          "height": 68
        },
        "outputId": "bb2f3964-7d5c-4578-a05e-87da3af80298"
      },
      "source": [
        "print('Testing model')\n",
        "model_loss = model.evaluate([X_test, A_test, E_test],y_test, batch_size=batch_size)\n",
        "print('Done. Test loss: {}'.format(model_loss))"
      ],
      "execution_count": 35,
      "outputs": [
        {
          "output_type": "stream",
          "text": [
            "Testing model\n",
            "419/419 [==============================] - 2s 5ms/step - loss: 0.4966\n",
            "Done. Test loss: 0.4965742528438568\n"
          ],
          "name": "stdout"
        }
      ]
    },
    {
      "cell_type": "code",
      "metadata": {
        "id": "Qfdnqha53aA6",
        "colab_type": "code",
        "colab": {
          "base_uri": "https://localhost:8080/",
          "height": 34
        },
        "outputId": "ae64a7ec-8d95-481a-ecd5-16d82dd8166d"
      },
      "source": [
        "y_test.shape"
      ],
      "execution_count": 36,
      "outputs": [
        {
          "output_type": "execute_result",
          "data": {
            "text/plain": [
              "(13389, 1)"
            ]
          },
          "metadata": {
            "tags": []
          },
          "execution_count": 36
        }
      ]
    },
    {
      "cell_type": "code",
      "metadata": {
        "id": "2KWgaIUp5rdi",
        "colab_type": "code",
        "colab": {
          "base_uri": "https://localhost:8080/",
          "height": 34
        },
        "outputId": "a6a0b9b0-4297-4efd-b46b-0f6d63af545e"
      },
      "source": [
        "y_predict = model.predict([X_test, A_test, E_test],batch_size=batch_size)\n",
        "y_predict.shape"
      ],
      "execution_count": 37,
      "outputs": [
        {
          "output_type": "execute_result",
          "data": {
            "text/plain": [
              "(13389, 1)"
            ]
          },
          "metadata": {
            "tags": []
          },
          "execution_count": 37
        }
      ]
    },
    {
      "cell_type": "code",
      "metadata": {
        "id": "VxnIbRK-8hmL",
        "colab_type": "code",
        "colab": {
          "base_uri": "https://localhost:8080/",
          "height": 34
        },
        "outputId": "252fb392-3104-41e2-8b50-413b122c13cd"
      },
      "source": [
        "from sklearn.metrics import r2_score\n",
        "print (r2_score(y_test, y_predict))"
      ],
      "execution_count": 38,
      "outputs": [
        {
          "output_type": "stream",
          "text": [
            "0.9701293407903547\n"
          ],
          "name": "stdout"
        }
      ]
    },
    {
      "cell_type": "code",
      "metadata": {
        "id": "_s-S7n_w86H3",
        "colab_type": "code",
        "colab": {
          "base_uri": "https://localhost:8080/",
          "height": 295
        },
        "outputId": "aa66746f-ace2-4ea2-c61d-5ecbcbb705f2"
      },
      "source": [
        "fig, ax = plt.subplots()\n",
        "ax.scatter(y_test, y_predict)\n",
        "ax.plot([y.min(), y.max()], [y.min(), y.max()], 'k--', lw=1)\n",
        "ax.set_xlabel('Actual')\n",
        "ax.set_ylabel('Predicted')\n",
        "ax.set_title('R2: ' + str(r2_score(y_test, y_predict)))\n",
        "\n",
        "#regression line\n",
        "#y_test, y_predict = y_test.reshape(-1,1), y_predict.reshape(-1,1)\n",
        "#ax.plot(y_test, LinearRegression().fit(y_test, y_predict).predict(y_test))\n",
        "\n",
        "\n",
        "plt.show()"
      ],
      "execution_count": 39,
      "outputs": [
        {
          "output_type": "display_data",
          "data": {
            "image/png": "[encoded data removed]",
            "text/plain": [
              "<Figure size 432x288 with 1 Axes>"
            ]
          },
          "metadata": {
            "tags": [],
            "needs_background": "light"
          }
        }
      ]
    },
    {
      "cell_type": "code",
      "metadata": {
        "id": "uDDnFBZU9LNO",
        "colab_type": "code",
        "colab": {}
      },
      "source": [
        "#trained first graphCNN of my life"
      ],
      "execution_count": 1,
      "outputs": []
    },
    {
      "cell_type": "code",
      "metadata": {
        "id": "wC_3xmNxYvZ2",
        "colab_type": "code",
        "colab": {
          "base_uri": "https://localhost:8080/",
          "height": 34
        },
        "outputId": "3a2a0996-1b88-48d1-fd44-f1d0c0131007"
      },
      "source": [
        "!conda install -c conda-forge rdkit"
      ],
      "execution_count": 13,
      "outputs": [
        {
          "output_type": "stream",
          "text": [
            "/bin/bash: conda: command not found\n"
          ],
          "name": "stdout"
        }
      ]
    },
    {
      "cell_type": "code",
      "metadata": {
        "id": "uI2jJCfKVCSM",
        "colab_type": "code",
        "colab": {}
      },
      "source": [
        "#!wget -c https://repo.anaconda.com/archive/Anaconda3-2019.10-Linux-x86_64.sh\n",
        "#!chmod +x Anaconda3-2019.10-Linux-x86_64.sh\n",
        "#!bash ./Anaconda3-2019.10-Linux-x86_64.sh -b -f -p /usr/local\n",
        "#!conda install -y -c deepchem -c rdkit -c conda-forge -c omnia deepchem-gpu=2.3.0\n",
        "import sys\n",
        "sys.path.append('/usr/local/lib/python3.7/site-packages/')"
      ],
      "execution_count": 5,
      "outputs": []
    },
    {
      "cell_type": "code",
      "metadata": {
        "id": "2x4bREUjYCSm",
        "colab_type": "code",
        "colab": {
          "base_uri": "https://localhost:8080/",
          "height": 419
        },
        "outputId": "710f7f5d-2eb0-4b54-8c4f-6b8263b14135"
      },
      "source": [
        "data"
      ],
      "execution_count": 6,
      "outputs": [
        {
          "output_type": "execute_result",
          "data": {
            "text/html": [
              "<div>\n",
              "<style scoped>\n",
              "    .dataframe tbody tr th:only-of-type {\n",
              "        vertical-align: middle;\n",
              "    }\n",
              "\n",
              "    .dataframe tbody tr th {\n",
              "        vertical-align: top;\n",
              "    }\n",
              "\n",
              "    .dataframe thead th {\n",
              "        text-align: right;\n",
              "    }\n",
              "</style>\n",
              "<table border=\"1\" class=\"dataframe\">\n",
              "  <thead>\n",
              "    <tr style=\"text-align: right;\">\n",
              "      <th></th>\n",
              "      <th>Unnamed: 0</th>\n",
              "      <th>drug</th>\n",
              "      <th>smile</th>\n",
              "      <th>mol_logp</th>\n",
              "    </tr>\n",
              "  </thead>\n",
              "  <tbody>\n",
              "    <tr>\n",
              "      <th>0</th>\n",
              "      <td>0</td>\n",
              "      <td>CHEMBL10</td>\n",
              "      <td>C[S+]([O-])c1ccc(-c2nc(-c3ccc(F)cc3)c(-c3ccncc...</td>\n",
              "      <td>4.68220</td>\n",
              "    </tr>\n",
              "    <tr>\n",
              "      <th>1</th>\n",
              "      <td>1</td>\n",
              "      <td>CHEMBL1000</td>\n",
              "      <td>O=C(O)COCCN1CCN(C(c2ccccc2)c2ccc(Cl)cc2)CC1</td>\n",
              "      <td>3.14820</td>\n",
              "    </tr>\n",
              "    <tr>\n",
              "      <th>2</th>\n",
              "      <td>2</td>\n",
              "      <td>CHEMBL100012</td>\n",
              "      <td>CC(C)(C)c1cnc(CSc2cnc(Nc3cccnc3)s2)o1</td>\n",
              "      <td>4.85950</td>\n",
              "    </tr>\n",
              "    <tr>\n",
              "      <th>3</th>\n",
              "      <td>3</td>\n",
              "      <td>CHEMBL100016</td>\n",
              "      <td>Oc1cccc(/C=C/c2cccc(O)c2)c1</td>\n",
              "      <td>3.26820</td>\n",
              "    </tr>\n",
              "    <tr>\n",
              "      <th>4</th>\n",
              "      <td>4</td>\n",
              "      <td>CHEMBL100050</td>\n",
              "      <td>CN1/C(=C(C#N)\\C(C#N)=C2\\Sc3ccccc3N2C)Sc2ccccc21</td>\n",
              "      <td>4.94096</td>\n",
              "    </tr>\n",
              "    <tr>\n",
              "      <th>...</th>\n",
              "      <td>...</td>\n",
              "      <td>...</td>\n",
              "      <td>...</td>\n",
              "      <td>...</td>\n",
              "    </tr>\n",
              "    <tr>\n",
              "      <th>52033</th>\n",
              "      <td>52033</td>\n",
              "      <td>CHEMBL99852</td>\n",
              "      <td>Oc1cccc(/C=C/c2cc(O)cc(O)c2)c1</td>\n",
              "      <td>2.97380</td>\n",
              "    </tr>\n",
              "    <tr>\n",
              "      <th>52034</th>\n",
              "      <td>52034</td>\n",
              "      <td>CHEMBL99859</td>\n",
              "      <td>COc1ccc(CNc2ncnc3c2ncn3C(C)C)cc1</td>\n",
              "      <td>3.02790</td>\n",
              "    </tr>\n",
              "    <tr>\n",
              "      <th>52035</th>\n",
              "      <td>52035</td>\n",
              "      <td>CHEMBL99923</td>\n",
              "      <td>C[C@H]1O[C@@H](n2cc(I)c3c(Nc4ccc(C#N)cc4)ncnc3...</td>\n",
              "      <td>2.29028</td>\n",
              "    </tr>\n",
              "    <tr>\n",
              "      <th>52036</th>\n",
              "      <td>52036</td>\n",
              "      <td>CHEMBL99948</td>\n",
              "      <td>Cc1ccc(Cl)c(Nc2ccnc(Nc3ccc(OCC(O)CN(C)C)cc3)n2)c1</td>\n",
              "      <td>4.22692</td>\n",
              "    </tr>\n",
              "    <tr>\n",
              "      <th>52037</th>\n",
              "      <td>52037</td>\n",
              "      <td>CHEMBL99951</td>\n",
              "      <td>N=C(N)c1ccc2nc(Cc3nc4ccc(C(=N)N)cc4[nH]3)[nH]c2c1</td>\n",
              "      <td>1.59814</td>\n",
              "    </tr>\n",
              "  </tbody>\n",
              "</table>\n",
              "<p>52038 rows × 4 columns</p>\n",
              "</div>"
            ],
            "text/plain": [
              "       Unnamed: 0  ... mol_logp\n",
              "0               0  ...  4.68220\n",
              "1               1  ...  3.14820\n",
              "2               2  ...  4.85950\n",
              "3               3  ...  3.26820\n",
              "4               4  ...  4.94096\n",
              "...           ...  ...      ...\n",
              "52033       52033  ...  2.97380\n",
              "52034       52034  ...  3.02790\n",
              "52035       52035  ...  2.29028\n",
              "52036       52036  ...  4.22692\n",
              "52037       52037  ...  1.59814\n",
              "\n",
              "[52038 rows x 4 columns]"
            ]
          },
          "metadata": {
            "tags": []
          },
          "execution_count": 6
        }
      ]
    },
    {
      "cell_type": "code",
      "metadata": {
        "id": "xwAZ--LJYEp2",
        "colab_type": "code",
        "colab": {}
      },
      "source": [
        "smile = data['smile'].values"
      ],
      "execution_count": 7,
      "outputs": []
    },
    {
      "cell_type": "code",
      "metadata": {
        "id": "_vlJTeaeYKk_",
        "colab_type": "code",
        "colab": {
          "base_uri": "https://localhost:8080/",
          "height": 34
        },
        "outputId": "88075b0a-9c0c-4b79-aaa5-fa7d33162e90"
      },
      "source": [
        "len(smile)"
      ],
      "execution_count": 8,
      "outputs": [
        {
          "output_type": "execute_result",
          "data": {
            "text/plain": [
              "52038"
            ]
          },
          "metadata": {
            "tags": []
          },
          "execution_count": 8
        }
      ]
    },
    {
      "cell_type": "code",
      "metadata": {
        "id": "mrypFDiretRf",
        "colab_type": "code",
        "colab": {
          "base_uri": "https://localhost:8080/",
          "height": 816
        },
        "outputId": "f14ba076-0bab-422d-a9a7-86c268b929dc"
      },
      "source": [
        "!conda install -c rdkit rdkit"
      ],
      "execution_count": 16,
      "outputs": [
        {
          "output_type": "stream",
          "text": [
            "Collecting package metadata (current_repodata.json): - \b\b\\ \b\b| \b\b/ \b\b- \b\b\\ \b\b| \b\b/ \b\b- \b\b\\ \b\b| \b\b/ \b\b- \b\b\\ \b\b| \b\b/ \b\b- \b\b\\ \b\b| \b\b/ \b\b- \b\b\\ \b\b| \b\b/ \b\b- \b\b\\ \b\b| \b\b/ \b\b- \b\bdone\n",
            "Solving environment: | \b\b/ \b\b- \b\b\\ \b\b| \b\b/ \b\b- \b\b\\ \b\b| \b\b/ \b\b- \b\b\\ \b\b| \b\b/ \b\b- \b\b\\ \b\b| \b\b/ \b\b- \b\b\\ \b\b| \b\b/ \b\b- \b\b\\ \b\b| \b\b/ \b\b- \b\b\\ \b\b| \b\b/ \b\b- \b\b\\ \b\b| \b\b/ \b\b- \b\b\\ \b\b| \b\b/ \b\b- \b\b\\ \b\b| \b\b/ \b\b- \b\b\\ \b\b| \b\b/ \b\b- \b\b\\ \b\b| \b\b/ \b\b- \b\b\\ \b\b| \b\b/ \b\b- \b\b\\ \b\b| \b\b/ \b\b- \b\bfailed with initial frozen solve. Retrying with flexible solve.\n",
            "Solving environment: | \b\b/ \b\b- \b\b\\ \b\b| \b\b/ \b\b- \b\b\\ \b\b| \b\b/ \b\b- \b\b\\ \b\b| \b\b/ \b\b- \b\b\\ \b\b| \b\b/ \b\b- \b\b\\ \b\b| \b\b/ \b\b- \b\b\\ \b\b| \b\b/ \b\b- \b\b\\ \b\b| \b\b/ \b\b- \b\b\\ \b\b| \b\b/ \b\b- \b\b\\ \b\b| \b\b/ \b\b- \b\b\\ \b\b| \b\b/ \b\b- \b\b\\ \b\b| \b\b/ \b\b- \b\b\\ \b\b| \b\b/ \b\b- \b\b\\ \b\b| \b\b/ \b\b- \b\b\\ \b\b| \b\b/ \b\b- \b\b\\ \b\b| \b\b/ \b\b- \b\b\\ \b\b| \b\b/ \b\b- \b\b\\ \b\b| \b\b/ \b\b- \b\b\\ \b\b| \b\b/ \b\b- \b\b\\ \b\b| \b\b/ \b\b- \b\b\\ \b\b| \b\b/ \b\b- \b\b\\ \b\b| \b\b/ \b\b- \b\b\\ \b\b| \b\b/ \b\b- \b\b\\ \b\b| \b\b/ \b\b- \b\b\\ \b\b| \b\b/ \b\b- \b\b\\ \b\b| \b\b/ \b\b- \b\b\\ \b\b| \b\b/ \b\b- \b\b\\ \b\b| \b\b/ \b\b- \b\b\\ \b\b| \b\b/ \b\b- \b\b\\ \b\b| \b\b/ \b\b- \b\b\\ \b\b| \b\b/ \b\b- \b\b\\ \b\b| \b\b/ \b\bfailed with repodata from current_repodata.json, will retry with next repodata source.\n",
            "Collecting package metadata (repodata.json): \\ \b\b| \b\b/ \b\b- \b\b\\ \b\b| \b\b/ \b\b- \b\b\\ \b\b| \b\b/ \b\b- \b\b\\ \b\b| \b\b/ \b\b- \b\b\\ \b\b| \b\b/ \b\b- \b\b\\ \b\b| \b\b/ \b\b- \b\b\\ \b\b| \b\b/ \b\b- \b\b\\ \b\b| \b\b/ \b\b- \b\b\\ \b\b| \b\b/ \b\b- \b\b\\ \b\b| \b\b/ \b\b- \b\b\\ \b\b| \b\b/ \b\b- \b\b\\ \b\b| \b\b/ \b\b- \b\b\\ \b\b| \b\b/ \b\b- \b\b\\ \b\b| \b\b/ \b\b- \b\b\\ \b\b| \b\b/ \b\b- \b\b\\ \b\b| \b\b/ \b\b- \b\b\\ \b\bdone\n",
            "Solving environment: / \b\b- \b\b\\ \b\b| \b\b/ \b\b- \b\b\\ \b\b| \b\b/ \b\b- \b\b\\ \b\b| \b\b/ \b\b- \b\b\\ \b\b| \b\b/ \b\b- \b\b\\ \b\b| \b\b/ \b\b- \b\b\\ \b\b| \b\b/ \b\b- \b\b\\ \b\b| \b\b/ \b\b- \b\b\\ \b\b| \b\b/ \b\b- \b\b\\ \b\b| \b\b/ \b\b- \b\b\\ \b\b| \b\b/ \b\b- \b\b\\ \b\b| \b\b/ \b\b- \b\b\\ \b\b| \b\b/ \b\b- \b\b\\ \b\b| \b\b/ \b\b- \b\b\\ \b\b| \b\b/ \b\b- \b\b\\ \b\b| \b\b/ \b\bdone\n",
            "\n",
            "## Package Plan ##\n",
            "\n",
            "  environment location: /usr/local\n",
            "\n",
            "  added / updated specs:\n",
            "    - rdkit\n",
            "\n",
            "\n",
            "The following packages will be downloaded:\n",
            "\n",
            "    package                    |            build\n",
            "    ---------------------------|-----------------\n",
            "    conda-4.8.3                |           py37_0         2.8 MB\n",
            "    libboost-1.67.0            |       h46d08c1_4        13.0 MB\n",
            "    py-boost-1.67.0            |   py37h04863e7_4         278 KB\n",
            "    rdkit-2020.03.3.0          |   py37hc20afe1_1        24.8 MB  rdkit\n",
            "    ------------------------------------------------------------\n",
            "                                           Total:        40.9 MB\n",
            "\n",
            "The following NEW packages will be INSTALLED:\n",
            "\n",
            "  libboost           pkgs/main/linux-64::libboost-1.67.0-h46d08c1_4\n",
            "  py-boost           pkgs/main/linux-64::py-boost-1.67.0-py37h04863e7_4\n",
            "  rdkit              rdkit/linux-64::rdkit-2020.03.3.0-py37hc20afe1_1\n",
            "\n",
            "The following packages will be UPDATED:\n",
            "\n",
            "  conda                                       4.7.12-py37_0 --> 4.8.3-py37_0\n",
            "\n",
            "\n",
            "Proceed ([y]/n)? y\n",
            "\n",
            "\n",
            "Downloading and Extracting Packages\n",
            "rdkit-2020.03.3.0    | 24.8 MB   | : 100% 1.0/1 [00:04<00:00,  4.76s/it]\n",
            "conda-4.8.3          | 2.8 MB    | : 100% 1.0/1 [00:00<00:00,  3.60it/s]               \n",
            "py-boost-1.67.0      | 278 KB    | : 100% 1.0/1 [00:00<00:00, 11.02it/s]\n",
            "libboost-1.67.0      | 13.0 MB   | : 100% 1.0/1 [00:02<00:00,  1.40s/it]               \n",
            "Preparing transaction: \\ \b\b| \b\b/ \b\b- \b\b\\ \b\b| \b\b/ \b\bdone\n",
            "Verifying transaction: \\ \b\b| \b\b/ \b\b- \b\b\\ \b\b| \b\b/ \b\b- \b\b\\ \b\b| \b\b/ \b\b- \b\b\\ \b\b| \b\b/ \b\b- \b\b\\ \b\b| \b\b/ \b\b- \b\bdone\n",
            "Executing transaction: | \b\b/ \b\b- \b\b\\ \b\b| \b\b/ \b\b- \b\b\\ \b\b| \b\b/ \b\b- \b\b\\ \b\b| \b\b/ \b\b- \b\b\\ \b\bdone\n"
          ],
          "name": "stdout"
        }
      ]
    },
    {
      "cell_type": "code",
      "metadata": {
        "id": "NTLbBGFQfPb_",
        "colab_type": "code",
        "colab": {}
      },
      "source": [
        "from rdkit import Chem"
      ],
      "execution_count": 17,
      "outputs": []
    },
    {
      "cell_type": "code",
      "metadata": {
        "id": "OuuxlhF8YMMq",
        "colab_type": "code",
        "colab": {}
      },
      "source": [
        "mols = [ Chem.MolFromSmiles(item) for item in smile]"
      ],
      "execution_count": 18,
      "outputs": []
    },
    {
      "cell_type": "code",
      "metadata": {
        "id": "JDBUTuv8YZ2d",
        "colab_type": "code",
        "colab": {
          "base_uri": "https://localhost:8080/",
          "height": 34
        },
        "outputId": "a132e11a-1d58-4670-f1f5-26136e177357"
      },
      "source": [
        "len(mols)"
      ],
      "execution_count": 19,
      "outputs": [
        {
          "output_type": "execute_result",
          "data": {
            "text/plain": [
              "52038"
            ]
          },
          "metadata": {
            "tags": []
          },
          "execution_count": 19
        }
      ]
    },
    {
      "cell_type": "code",
      "metadata": {
        "id": "MYZpdBhrfX2t",
        "colab_type": "code",
        "colab": {}
      },
      "source": [
        "w = Chem.SDWriter('drugs_kiba.sdf')\n",
        "for m in mols:\n",
        "  w.write(m)"
      ],
      "execution_count": 20,
      "outputs": []
    },
    {
      "cell_type": "code",
      "metadata": {
        "id": "QdGIixqaldp7",
        "colab_type": "code",
        "colab": {}
      },
      "source": [
        "#own dataset analysis"
      ],
      "execution_count": 6,
      "outputs": []
    },
    {
      "cell_type": "code",
      "metadata": {
        "id": "t-trAPxN3KFH",
        "colab_type": "code",
        "colab": {}
      },
      "source": [
        "from tensorflow.keras.layers import Input, Dense\n",
        "from tensorflow.keras.regularizers import l2\n",
        "from tensorflow.keras.models import Model\n",
        "from tensorflow.keras.optimizers import Adam\n",
        "from tensorflow.keras.callbacks import EarlyStopping\n",
        "\n",
        "from sklearn.model_selection import train_test_split\n",
        "from sklearn.metrics import confusion_matrix"
      ],
      "execution_count": 5,
      "outputs": []
    },
    {
      "cell_type": "code",
      "metadata": {
        "id": "Cy3h7mLXqnTm",
        "colab_type": "code",
        "colab": {}
      },
      "source": [
        "from spektral.layers import GraphAttention, GlobalAttentionPool,GlobalSumPool,EdgeConditionedConv\n",
        "from spektral.utils import label_to_one_hot, load_sdf, nx_to_numpy\n",
        "from spektral.chem import sdf_to_nx"
      ],
      "execution_count": 26,
      "outputs": []
    },
    {
      "cell_type": "code",
      "metadata": {
        "id": "hALtYwf3GvXa",
        "colab_type": "code",
        "colab": {}
      },
      "source": [
        "n_mols = 1000"
      ],
      "execution_count": 8,
      "outputs": []
    },
    {
      "cell_type": "code",
      "metadata": {
        "id": "CoooQfMPk6ax",
        "colab_type": "code",
        "colab": {
          "base_uri": "https://localhost:8080/",
          "height": 34
        },
        "outputId": "1c55eb75-b10d-4401-e3d1-bf546f4276c1"
      },
      "source": [
        "sdf_loaded = load_sdf('drugs_kiba.sdf', amount=n_mols)"
      ],
      "execution_count": 11,
      "outputs": [
        {
          "output_type": "stream",
          "text": [
            "Reading SDF\n"
          ],
          "name": "stdout"
        }
      ]
    },
    {
      "cell_type": "code",
      "metadata": {
        "id": "qxKZE8Q9f7R1",
        "colab_type": "code",
        "colab": {}
      },
      "source": [
        "sdf_nx = sdf_to_nx(sdf_loaded, keep_hydrogen=False)"
      ],
      "execution_count": 12,
      "outputs": []
    },
    {
      "cell_type": "code",
      "metadata": {
        "id": "8j9b_sVGjx2M",
        "colab_type": "code",
        "colab": {
          "base_uri": "https://localhost:8080/",
          "height": 34
        },
        "outputId": "75a138d4-542b-417d-afc7-eb9c90e0fef1"
      },
      "source": [
        "len(sdf_nx)"
      ],
      "execution_count": 13,
      "outputs": [
        {
          "output_type": "execute_result",
          "data": {
            "text/plain": [
              "1000"
            ]
          },
          "metadata": {
            "tags": []
          },
          "execution_count": 13
        }
      ]
    },
    {
      "cell_type": "code",
      "metadata": {
        "id": "Ejl_rM7Riiqp",
        "colab_type": "code",
        "colab": {}
      },
      "source": [
        "y = np.asarray(data[:n_mols]['mol_logp'].values).reshape(-1,1)"
      ],
      "execution_count": 18,
      "outputs": []
    },
    {
      "cell_type": "code",
      "metadata": {
        "id": "wlo5r8xGrjyd",
        "colab_type": "code",
        "colab": {}
      },
      "source": [
        "sdf_adj, sdf_node, sdf_edge = nx_to_numpy(sdf_nx,self_loops=True,nf_keys=['atomic_num'],ef_keys=['type'])"
      ],
      "execution_count": 15,
      "outputs": []
    },
    {
      "cell_type": "code",
      "metadata": {
        "id": "E6R547lKruZs",
        "colab_type": "code",
        "colab": {
          "base_uri": "https://localhost:8080/",
          "height": 34
        },
        "outputId": "b2f971a3-94f2-4e58-f475-d1e6236d12b0"
      },
      "source": [
        "sdf_adj.shape, sdf_node.shape, sdf_edge.shape, y.shape"
      ],
      "execution_count": 19,
      "outputs": [
        {
          "output_type": "execute_result",
          "data": {
            "text/plain": [
              "((1000, 115, 115), (1000, 115, 1), (1000, 115, 115, 1), (1000, 1))"
            ]
          },
          "metadata": {
            "tags": []
          },
          "execution_count": 19
        }
      ]
    },
    {
      "cell_type": "code",
      "metadata": {
        "id": "5otk-WNri3oi",
        "colab_type": "code",
        "colab": {}
      },
      "source": [
        "# Preprocessing\n",
        "X_uniq = np.unique(sdf_node)\n",
        "X_uniq = X_uniq[X_uniq != 0]\n",
        "E_uniq = np.unique(sdf_edge)\n",
        "E_uniq = E_uniq[E_uniq != 0]\n",
        "\n",
        "X = label_to_one_hot(sdf_node, X_uniq)\n",
        "E = label_to_one_hot(sdf_edge, E_uniq)"
      ],
      "execution_count": 17,
      "outputs": []
    },
    {
      "cell_type": "code",
      "metadata": {
        "id": "8b8X49jgi3gh",
        "colab_type": "code",
        "colab": {}
      },
      "source": [
        "# Parameters\n",
        "N = sdf_node.shape[-2]       # Number of nodes in the graphs\n",
        "F = sdf_node[0].shape[-1]    # Dimension of node features\n",
        "S = sdf_edge[0].shape[-1]    # Dimension of edge features\n",
        "n_out = y.shape[-1]   # Dimension of the target"
      ],
      "execution_count": 20,
      "outputs": []
    },
    {
      "cell_type": "code",
      "metadata": {
        "id": "YhpPtkkli3YZ",
        "colab_type": "code",
        "colab": {
          "base_uri": "https://localhost:8080/",
          "height": 34
        },
        "outputId": "948dc3b8-32c9-4bff-a033-cf1a3dc8b211"
      },
      "source": [
        "N,F,S,n_out"
      ],
      "execution_count": 21,
      "outputs": [
        {
          "output_type": "execute_result",
          "data": {
            "text/plain": [
              "(115, 1, 1, 1)"
            ]
          },
          "metadata": {
            "tags": []
          },
          "execution_count": 21
        }
      ]
    },
    {
      "cell_type": "code",
      "metadata": {
        "id": "1KdGafM-i3QJ",
        "colab_type": "code",
        "colab": {}
      },
      "source": [
        "A_train, A_test, X_train, X_test, E_train, E_test, y_train, y_test = train_test_split(sdf_adj, sdf_node, sdf_edge, y, test_size=0.1, random_state=0)"
      ],
      "execution_count": 23,
      "outputs": []
    },
    {
      "cell_type": "code",
      "metadata": {
        "id": "VkfDQubfmwZb",
        "colab_type": "code",
        "colab": {}
      },
      "source": [
        "################################################################################\n",
        "# PARAMETERS\n",
        "################################################################################\n",
        "learning_rate = 1e-3  # Learning rate\n",
        "epochs = 10           # Number of training epochs\n",
        "batch_size = 32      #batch size"
      ],
      "execution_count": 31,
      "outputs": []
    },
    {
      "cell_type": "code",
      "metadata": {
        "id": "wg4r6hfcrMXl",
        "colab_type": "code",
        "colab": {}
      },
      "source": [
        "es_patience = 5                # Patience for early stopping\n",
        "es_delta = 0.001                # Min Delta for early stopping"
      ],
      "execution_count": 48,
      "outputs": []
    },
    {
      "cell_type": "code",
      "metadata": {
        "id": "IkGB-KLPqgHI",
        "colab_type": "code",
        "colab": {}
      },
      "source": [
        "del model"
      ],
      "execution_count": 50,
      "outputs": []
    },
    {
      "cell_type": "code",
      "metadata": {
        "id": "AEAFN-IVi3DS",
        "colab_type": "code",
        "colab": {
          "base_uri": "https://localhost:8080/",
          "height": 459
        },
        "outputId": "b89343ae-7f69-4237-c229-12c2a41d545e"
      },
      "source": [
        "################################################################################\n",
        "# BUILD MODEL\n",
        "################################################################################\n",
        "X_in = Input(shape=(N, F))\n",
        "A_in = Input(shape=(N, N))\n",
        "E_in = Input(shape=(N, N, S))\n",
        "\n",
        "#X_1 = EdgeConditionedConv(32, activation='relu')([X_in, A_in, E_in])\n",
        "#X_2 = EdgeConditionedConv(32, activation='relu')([X_1, A_in, E_in])\n",
        "#X_3 = GlobalSumPool()(X_2)\n",
        "#output = Dense(n_out)(X_3)\n",
        "\n",
        "\n",
        "X_1 = GraphAttention(32, activation='relu')([X_in, A_in, E_in])\n",
        "X_2 = GraphAttention(32, activation='relu')([X_1, A_in, E_in])\n",
        "X_3 = GlobalAttentionPool(64)(X_2)\n",
        "output = Dense(n_out)(X_3)\n",
        "\n",
        "\n",
        "\n",
        "# Build model\n",
        "model = Model(inputs=[X_in, A_in, E_in], outputs=output)\n",
        "optimizer = Adam(lr=learning_rate)\n",
        "model.compile(optimizer=optimizer, loss='mse')\n",
        "model.summary()"
      ],
      "execution_count": 51,
      "outputs": [
        {
          "output_type": "stream",
          "text": [
            "Model: \"model_1\"\n",
            "__________________________________________________________________________________________________\n",
            "Layer (type)                    Output Shape         Param #     Connected to                     \n",
            "==================================================================================================\n",
            "input_4 (InputLayer)            [(None, 115, 1)]     0                                            \n",
            "__________________________________________________________________________________________________\n",
            "input_5 (InputLayer)            [(None, 115, 115)]   0                                            \n",
            "__________________________________________________________________________________________________\n",
            "input_6 (InputLayer)            [(None, 115, 115, 1) 0                                            \n",
            "__________________________________________________________________________________________________\n",
            "graph_attention_2 (GraphAttenti (None, 115, 32)      128         input_4[0][0]                    \n",
            "                                                                 input_5[0][0]                    \n",
            "                                                                 input_6[0][0]                    \n",
            "__________________________________________________________________________________________________\n",
            "graph_attention_3 (GraphAttenti (None, 115, 32)      1120        graph_attention_2[0][0]          \n",
            "                                                                 input_5[0][0]                    \n",
            "                                                                 input_6[0][0]                    \n",
            "__________________________________________________________________________________________________\n",
            "global_attention_pool_1 (Global (None, 64)           4224        graph_attention_3[0][0]          \n",
            "__________________________________________________________________________________________________\n",
            "dense_1 (Dense)                 (None, 1)            65          global_attention_pool_1[0][0]    \n",
            "==================================================================================================\n",
            "Total params: 5,537\n",
            "Trainable params: 5,537\n",
            "Non-trainable params: 0\n",
            "__________________________________________________________________________________________________\n"
          ],
          "name": "stdout"
        }
      ]
    },
    {
      "cell_type": "code",
      "metadata": {
        "id": "tOfwLr0wmLDp",
        "colab_type": "code",
        "colab": {
          "base_uri": "https://localhost:8080/",
          "height": 289
        },
        "outputId": "1f64ab65-27c9-47f2-8c15-0f74e2523de3"
      },
      "source": [
        "################################################################################\n",
        "# FIT MODEL\n",
        "################################################################################\n",
        "history  = model.fit([X_train, A_train, E_train],y_train,batch_size=batch_size,epochs=epochs,validation_split=0.1,callbacks=[cb_early])"
      ],
      "execution_count": 52,
      "outputs": [
        {
          "output_type": "stream",
          "text": [
            "Epoch 1/10\n",
            "26/26 [==============================] - 1s 24ms/step - loss: 3.2725 - val_loss: 2.7727\n",
            "Epoch 2/10\n",
            "26/26 [==============================] - 0s 13ms/step - loss: 2.2922 - val_loss: 2.7539\n",
            "Epoch 3/10\n",
            "26/26 [==============================] - 0s 13ms/step - loss: 2.3962 - val_loss: 2.9518\n",
            "Epoch 4/10\n",
            "26/26 [==============================] - 0s 13ms/step - loss: 2.4112 - val_loss: 4.0256\n",
            "Epoch 5/10\n",
            "26/26 [==============================] - 0s 12ms/step - loss: 2.2095 - val_loss: 2.8636\n",
            "Epoch 6/10\n",
            "26/26 [==============================] - 0s 12ms/step - loss: 2.3521 - val_loss: 2.8493\n",
            "Epoch 7/10\n",
            "26/26 [==============================] - ETA: 0s - loss: 2.2624Restoring model weights from the end of the best epoch.\n",
            "26/26 [==============================] - 0s 13ms/step - loss: 2.2624 - val_loss: 2.7883\n",
            "Epoch 00007: early stopping\n"
          ],
          "name": "stdout"
        }
      ]
    },
    {
      "cell_type": "code",
      "metadata": {
        "id": "j-nvCh-BmKyn",
        "colab_type": "code",
        "colab": {}
      },
      "source": [
        "y_predict = model.predict([X_test, A_test, E_test],batch_size=batch_size)"
      ],
      "execution_count": 53,
      "outputs": []
    },
    {
      "cell_type": "code",
      "metadata": {
        "id": "ENa3AYgNmKfy",
        "colab_type": "code",
        "colab": {
          "base_uri": "https://localhost:8080/",
          "height": 34
        },
        "outputId": "8ac96fea-fad6-4be0-8601-3504c6567f9f"
      },
      "source": [
        "from sklearn.metrics import r2_score\n",
        "print (r2_score(y_test, y_predict))"
      ],
      "execution_count": 54,
      "outputs": [
        {
          "output_type": "stream",
          "text": [
            "-0.1970711989994438\n"
          ],
          "name": "stdout"
        }
      ]
    },
    {
      "cell_type": "code",
      "metadata": {
        "id": "goTF9W7wmKSf",
        "colab_type": "code",
        "colab": {
          "base_uri": "https://localhost:8080/",
          "height": 295
        },
        "outputId": "96e13194-69bf-414f-b04b-ac69f0d452bd"
      },
      "source": [
        "fig, ax = plt.subplots()\n",
        "ax.scatter(y_test, y_predict)\n",
        "ax.plot([y.min(), y.max()], [y.min(), y.max()], 'k--', lw=1)\n",
        "ax.set_xlabel('Actual')\n",
        "ax.set_ylabel('Predicted')\n",
        "ax.set_title('R2: ' + str(r2_score(y_test, y_predict)))\n",
        "\n",
        "#regression line\n",
        "#y_test, y_predict = y_test.reshape(-1,1), y_predict.reshape(-1,1)\n",
        "#ax.plot(y_test, LinearRegression().fit(y_test, y_predict).predict(y_test))\n",
        "\n",
        "\n",
        "plt.show()"
      ],
      "execution_count": 46,
      "outputs": [
        {
          "output_type": "display_data",
          "data": {
            "image/png": "[encoded data removed]",
            "text/plain": [
              "<Figure size 432x288 with 1 Axes>"
            ]
          },
          "metadata": {
            "tags": [],
            "needs_background": "light"
          }
        }
      ]
    },
    {
      "cell_type": "code",
      "metadata": {
        "id": "H-Sv8RPHmKFo",
        "colab_type": "code",
        "colab": {}
      },
      "source": [
        ""
      ],
      "execution_count": null,
      "outputs": []
    },
    {
      "cell_type": "code",
      "metadata": {
        "id": "4Kp1x3wtmJyt",
        "colab_type": "code",
        "colab": {}
      },
      "source": [
        ""
      ],
      "execution_count": null,
      "outputs": []
    },
    {
      "cell_type": "code",
      "metadata": {
        "id": "xo4nUvaGwW8B",
        "colab_type": "code",
        "colab": {}
      },
      "source": [
        "# below is from online tutorial, this works\n",
        "# Node attributes preprocessing\n",
        "# uniq_node = np.unique([v for x in sdf_node for v in np.unique(x)])\n",
        "# node = np.asarray([label_to_one_hot(x, uniq_node) for x in sdf_node])"
      ],
      "execution_count": 13,
      "outputs": []
    },
    {
      "cell_type": "code",
      "metadata": {
        "id": "i5PnXeFKiLrY",
        "colab_type": "code",
        "colab": {}
      },
      "source": [
        ""
      ],
      "execution_count": null,
      "outputs": []
    },
    {
      "cell_type": "code",
      "metadata": {
        "id": "HzWNPQvLiLgu",
        "colab_type": "code",
        "colab": {}
      },
      "source": [
        ""
      ],
      "execution_count": null,
      "outputs": []
    },
    {
      "cell_type": "code",
      "metadata": {
        "id": "MaLiOBQniLTF",
        "colab_type": "code",
        "colab": {}
      },
      "source": [
        ""
      ],
      "execution_count": null,
      "outputs": []
    },
    {
      "cell_type": "code",
      "metadata": {
        "id": "HIV3oNHVzn1f",
        "colab_type": "code",
        "colab": {}
      },
      "source": [
        "\n",
        "#logp = np.asarray(logp)"
      ],
      "execution_count": 14,
      "outputs": []
    },
    {
      "cell_type": "code",
      "metadata": {
        "id": "Ve2ll0Cgz4w_",
        "colab_type": "code",
        "colab": {}
      },
      "source": [
        "#logp = logp."
      ],
      "execution_count": 195,
      "outputs": []
    },
    {
      "cell_type": "code",
      "metadata": {
        "id": "6Pxe7nAtLBKZ",
        "colab_type": "code",
        "colab": {
          "base_uri": "https://localhost:8080/",
          "height": 34
        },
        "outputId": "278eac2c-487c-46ff-90ef-acd90948f6fa"
      },
      "source": [
        "logp.shape"
      ],
      "execution_count": 15,
      "outputs": [
        {
          "output_type": "execute_result",
          "data": {
            "text/plain": [
              "(5000, 1)"
            ]
          },
          "metadata": {
            "tags": []
          },
          "execution_count": 15
        }
      ]
    },
    {
      "cell_type": "code",
      "metadata": {
        "id": "AFnWdgJr0kR6",
        "colab_type": "code",
        "colab": {
          "base_uri": "https://localhost:8080/",
          "height": 51
        },
        "outputId": "5061cc2b-7e55-4ef8-ee52-c03cbc873ac6"
      },
      "source": [
        "# Model parameters\n",
        "N = node[0].shape[-2]          # Number of nodes in the graphs\n",
        "F = node[0].shape[-1]          # Original feature dimensionality\n",
        "#n_classes = label.shape[-1]    # Number of classes\n",
        "\n",
        "l2_reg = 5e-4                  # Regularization rate for l2\n",
        "learning_rate = 1e-4           # Learning rate for Adam\n",
        "epochs = 100                     # Number of training epochs\n",
        "batch_size = 32                # Batch size\n",
        "es_patience = 5                # Patience for early stopping\n",
        "es_delta = 0.001                # Min Delta for early stopping\n",
        "\n",
        "print('Number of nodes in the graphs : ',N)\n",
        "print('Features dimenssionality :',F)\n",
        "#print('Number of classes :',n_classes)"
      ],
      "execution_count": 16,
      "outputs": [
        {
          "output_type": "stream",
          "text": [
            "Number of nodes in the graphs :  216\n",
            "Features dimenssionality : 14\n"
          ],
          "name": "stdout"
        }
      ]
    },
    {
      "cell_type": "code",
      "metadata": {
        "id": "mtkqfAam20Kv",
        "colab_type": "code",
        "colab": {}
      },
      "source": [
        "from sklearn.model_selection import train_test_split"
      ],
      "execution_count": 17,
      "outputs": []
    },
    {
      "cell_type": "code",
      "metadata": {
        "id": "DlU-wDMc1tnC",
        "colab_type": "code",
        "colab": {}
      },
      "source": [
        "# Train/test split : 10%\n",
        "A_train, A_test, \\\n",
        "X_train, X_test, \\\n",
        "y_train, y_test = train_test_split(sdf_adj, node, y, test_size=0.1,random_state=0)"
      ],
      "execution_count": 18,
      "outputs": []
    },
    {
      "cell_type": "code",
      "metadata": {
        "id": "hIGw3cpTD_qt",
        "colab_type": "code",
        "colab": {
          "base_uri": "https://localhost:8080/",
          "height": 119
        },
        "outputId": "2f9047c1-c648-4661-a760-ce15bdf61833"
      },
      "source": [
        "A_train.shape, X_train.shape, y_train.shape, A_test.shape, X_test.shape, y_test.shape"
      ],
      "execution_count": 19,
      "outputs": [
        {
          "output_type": "execute_result",
          "data": {
            "text/plain": [
              "((4500, 216, 216),\n",
              " (4500, 216, 14),\n",
              " (4500, 1),\n",
              " (500, 216, 216),\n",
              " (500, 216, 14),\n",
              " (500, 1))"
            ]
          },
          "metadata": {
            "tags": []
          },
          "execution_count": 19
        }
      ]
    },
    {
      "cell_type": "code",
      "metadata": {
        "id": "apWK80VkMPVR",
        "colab_type": "code",
        "colab": {}
      },
      "source": [
        "from tensorflow.keras import backend as K\n",
        "K.clear_session()"
      ],
      "execution_count": 40,
      "outputs": []
    },
    {
      "cell_type": "code",
      "metadata": {
        "id": "R5vR0Tgf15g1",
        "colab_type": "code",
        "colab": {}
      },
      "source": [
        "# Model definition\n",
        "X_in = Input(shape=(N, F))\n",
        "A_in = Input((N, N))\n",
        "\n",
        "gc1 = GraphAttention(64, activation='relu', kernel_regularizer=l2(l2_reg))([X_in, A_in])\n",
        "gc2 = GraphAttention(64, activation='relu', kernel_regularizer=l2(l2_reg))([gc1, A_in])\n",
        "pool = GlobalAttentionPool(128)(gc2)\n",
        "#pool = GlobalSumPool()(gc2)\n",
        "\n",
        "output = Dense(1, activation='linear')(pool)"
      ],
      "execution_count": 212,
      "outputs": []
    },
    {
      "cell_type": "code",
      "metadata": {
        "id": "eDISLRRW-pA_",
        "colab_type": "code",
        "colab": {}
      },
      "source": [
        "del model"
      ],
      "execution_count": 213,
      "outputs": []
    },
    {
      "cell_type": "code",
      "metadata": {
        "id": "haUeW-rt3ytz",
        "colab_type": "code",
        "colab": {
          "base_uri": "https://localhost:8080/",
          "height": 391
        },
        "outputId": "f575b9aa-ca19-41ec-cb29-fff1d4d3a15b"
      },
      "source": [
        "# Build model\n",
        "model = Model(inputs=[X_in, A_in], outputs=output)\n",
        "optimizer = Adam(lr=learning_rate)\n",
        "model.compile(optimizer=optimizer, loss='mse')\n",
        "model.summary()"
      ],
      "execution_count": 214,
      "outputs": [
        {
          "output_type": "stream",
          "text": [
            "Model: \"model\"\n",
            "__________________________________________________________________________________________________\n",
            "Layer (type)                    Output Shape         Param #     Connected to                     \n",
            "==================================================================================================\n",
            "input_1 (InputLayer)            [(None, 216, 14)]    0                                            \n",
            "__________________________________________________________________________________________________\n",
            "input_2 (InputLayer)            [(None, 216, 216)]   0                                            \n",
            "__________________________________________________________________________________________________\n",
            "graph_attention (GraphAttention (None, 216, 64)      1088        input_1[0][0]                    \n",
            "                                                                 input_2[0][0]                    \n",
            "__________________________________________________________________________________________________\n",
            "graph_attention_1 (GraphAttenti (None, 216, 64)      4288        graph_attention[0][0]            \n",
            "                                                                 input_2[0][0]                    \n",
            "__________________________________________________________________________________________________\n",
            "global_attention_pool (GlobalAt (None, 128)          16640       graph_attention_1[0][0]          \n",
            "__________________________________________________________________________________________________\n",
            "dense (Dense)                   (None, 1)            129         global_attention_pool[0][0]      \n",
            "==================================================================================================\n",
            "Total params: 22,145\n",
            "Trainable params: 22,145\n",
            "Non-trainable params: 0\n",
            "__________________________________________________________________________________________________\n"
          ],
          "name": "stdout"
        }
      ]
    },
    {
      "cell_type": "code",
      "metadata": {
        "id": "jA2Mv2LeXU9t",
        "colab_type": "code",
        "colab": {}
      },
      "source": [
        "del history"
      ],
      "execution_count": 215,
      "outputs": []
    },
    {
      "cell_type": "code",
      "metadata": {
        "id": "teACujFTYwTk",
        "colab_type": "code",
        "colab": {}
      },
      "source": [
        "cb_early = EarlyStopping(monitor='val_loss', min_delta=es_delta, patience=es_patience, verbose=1, restore_best_weights=True)"
      ],
      "execution_count": 49,
      "outputs": []
    },
    {
      "cell_type": "code",
      "metadata": {
        "id": "bOoDD65O-W85",
        "colab_type": "code",
        "colab": {
          "base_uri": "https://localhost:8080/",
          "height": 731
        },
        "outputId": "b898c67f-f19d-422d-fad1-bebef8ed1a3b"
      },
      "source": [
        "# Train model : 10% validation split\n",
        "history = model.fit([X_train, A_train],y_train,batch_size=batch_size,validation_split=0.1,epochs=epochs,callbacks=[cb_early])"
      ],
      "execution_count": 216,
      "outputs": [
        {
          "output_type": "stream",
          "text": [
            "Epoch 1/100\n",
            "127/127 [==============================] - 3s 23ms/step - loss: 3.7293 - val_loss: 2.9566\n",
            "Epoch 2/100\n",
            "127/127 [==============================] - 3s 21ms/step - loss: 2.9478 - val_loss: 2.9048\n",
            "Epoch 3/100\n",
            "127/127 [==============================] - 3s 21ms/step - loss: 2.8310 - val_loss: 2.6414\n",
            "Epoch 4/100\n",
            "127/127 [==============================] - 3s 21ms/step - loss: 2.6133 - val_loss: 2.3059\n",
            "Epoch 5/100\n",
            "127/127 [==============================] - 3s 21ms/step - loss: 2.3813 - val_loss: 2.0483\n",
            "Epoch 6/100\n",
            "127/127 [==============================] - 3s 21ms/step - loss: 2.1854 - val_loss: 1.6917\n",
            "Epoch 7/100\n",
            "127/127 [==============================] - 3s 21ms/step - loss: 2.0872 - val_loss: 1.4661\n",
            "Epoch 8/100\n",
            "127/127 [==============================] - 3s 21ms/step - loss: 2.0861 - val_loss: 1.3687\n",
            "Epoch 9/100\n",
            "127/127 [==============================] - 3s 21ms/step - loss: 2.1019 - val_loss: 1.5862\n",
            "Epoch 10/100\n",
            "127/127 [==============================] - 3s 21ms/step - loss: 2.0455 - val_loss: 1.2914\n",
            "Epoch 11/100\n",
            "127/127 [==============================] - 3s 21ms/step - loss: 2.0659 - val_loss: 1.5057\n",
            "Epoch 12/100\n",
            "127/127 [==============================] - 3s 21ms/step - loss: 2.0114 - val_loss: 1.3420\n",
            "Epoch 13/100\n",
            "127/127 [==============================] - 3s 21ms/step - loss: 2.0155 - val_loss: 1.3014\n",
            "Epoch 14/100\n",
            "127/127 [==============================] - 3s 21ms/step - loss: 2.0465 - val_loss: 1.2792\n",
            "Epoch 15/100\n",
            "127/127 [==============================] - 3s 21ms/step - loss: 2.0279 - val_loss: 1.2665\n",
            "Epoch 16/100\n",
            "127/127 [==============================] - 3s 21ms/step - loss: 1.9919 - val_loss: 1.2870\n",
            "Epoch 17/100\n",
            "127/127 [==============================] - 3s 21ms/step - loss: 2.0627 - val_loss: 1.2801\n",
            "Epoch 18/100\n",
            "127/127 [==============================] - 3s 21ms/step - loss: 2.0139 - val_loss: 1.5563\n",
            "Epoch 19/100\n",
            "127/127 [==============================] - 3s 20ms/step - loss: 2.0392 - val_loss: 1.2971\n",
            "Epoch 20/100\n",
            "127/127 [==============================] - ETA: 0s - loss: 1.9893Restoring model weights from the end of the best epoch.\n",
            "127/127 [==============================] - 3s 21ms/step - loss: 1.9893 - val_loss: 1.2779\n",
            "Epoch 00020: early stopping\n"
          ],
          "name": "stdout"
        }
      ]
    },
    {
      "cell_type": "code",
      "metadata": {
        "id": "f5LGAigf_I0p",
        "colab_type": "code",
        "colab": {
          "base_uri": "https://localhost:8080/",
          "height": 295
        },
        "outputId": "7b773163-c729-4039-85a4-3b25b5baabb8"
      },
      "source": [
        "# summarize history for loss\n",
        "plt.plot(history.history['loss'])\n",
        "plt.plot(history.history['val_loss'])\n",
        "plt.title('model loss')\n",
        "plt.ylabel('loss')\n",
        "plt.xlabel('epoch')\n",
        "plt.legend(['train', 'validation'], loc='upper right')\n",
        "plt.show()"
      ],
      "execution_count": 217,
      "outputs": [
        {
          "output_type": "display_data",
          "data": {
            "image/png": "[encoded data removed]",
            "text/plain": [
              "<Figure size 432x288 with 1 Axes>"
            ]
          },
          "metadata": {
            "tags": [],
            "needs_background": "light"
          }
        }
      ]
    },
    {
      "cell_type": "code",
      "metadata": {
        "id": "5xweocZeU0Wf",
        "colab_type": "code",
        "colab": {}
      },
      "source": [
        "y_predict = model.predict([X_test, A_test],batch_size=batch_size)"
      ],
      "execution_count": 218,
      "outputs": []
    },
    {
      "cell_type": "code",
      "metadata": {
        "id": "i-itjKO_VQEF",
        "colab_type": "code",
        "colab": {
          "base_uri": "https://localhost:8080/",
          "height": 34
        },
        "outputId": "9d56d482-abea-4ab4-fd62-c6fd6fd49e32"
      },
      "source": [
        "from sklearn.metrics import r2_score\n",
        "print (r2_score(y_test, y_predict))"
      ],
      "execution_count": 219,
      "outputs": [
        {
          "output_type": "stream",
          "text": [
            "0.46456643499208206\n"
          ],
          "name": "stdout"
        }
      ]
    },
    {
      "cell_type": "code",
      "metadata": {
        "id": "6k_SKAysVz5f",
        "colab_type": "code",
        "colab": {}
      },
      "source": [
        ""
      ],
      "execution_count": null,
      "outputs": []
    }
  ]
}