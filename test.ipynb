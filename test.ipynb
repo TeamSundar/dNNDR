{
 "metadata": {
  "language_info": {
   "codemirror_mode": {
    "name": "ipython",
    "version": 3
   },
   "file_extension": ".py",
   "mimetype": "text/x-python",
   "name": "python",
   "nbconvert_exporter": "python",
   "pygments_lexer": "ipython3",
   "version": 3
  },
  "orig_nbformat": 2,
  "kernelspec": {
   "name": "python_defaultSpec_1595677044853",
   "display_name": "Python 3.7.4 64-bit ('20202507_dNNDR': virtualenv)"
  }
 },
 "nbformat": 4,
 "nbformat_minor": 2,
 "cells": [
  {
   "cell_type": "code",
   "execution_count": 1,
   "metadata": {},
   "outputs": [],
   "source": [
    "import pandas as pd\n",
    "# Python modules used for API access...\n",
    "from chembl_webresource_client.new_client import new_client\n",
    "from tqdm import tqdm"
   ]
  },
  {
   "cell_type": "code",
   "execution_count": 2,
   "metadata": {},
   "outputs": [],
   "source": [
    "KIBA_drugs = pd.read_csv('data/KIBA_drugs.csv')"
   ]
  },
  {
   "cell_type": "code",
   "execution_count": 5,
   "metadata": {},
   "outputs": [],
   "source": [
    "main_dict = dict.fromkeys(KIBA_drugs['drugs'].tolist(), [])\n",
    "for drug in main_dict:\n",
    "    main_dict[drug] = dict.fromkeys(['target_organism', 'target_chembl_id', 'type', 'units', 'value'],[])"
   ]
  },
  {
   "cell_type": "code",
   "execution_count": 7,
   "metadata": {
    "tags": []
   },
   "outputs": [
    {
     "output_type": "error",
     "ename": "SyntaxError",
     "evalue": "invalid syntax (<ipython-input-7-5f2c1f9e2ce7>, line 10)",
     "traceback": [
      "\u001b[1;36m  File \u001b[1;32m\"<ipython-input-7-5f2c1f9e2ce7>\"\u001b[1;36m, line \u001b[1;32m10\u001b[0m\n\u001b[1;33m    value['units'].append(records[i]['units'])-+3/\u001b[0m\n\u001b[1;37m                                                  ^\u001b[0m\n\u001b[1;31mSyntaxError\u001b[0m\u001b[1;31m:\u001b[0m invalid syntax\n"
     ]
    }
   ],
   "source": [
    "for drug in tqdm(main_dict):   \n",
    "    records = new_client.activity.filter(molecule_chembl_id=drug).only(['target_organism', 'target_chembl_id', 'type', 'units', 'value'])\n",
    "    value = {'target_organism': [], 'target_chembl_id': [], \n",
    "            'type': [], 'units': [], 'value': []} \n",
    "\n",
    "    for i in range(len(records)):\n",
    "        value['target_organism'].append(records[i]['target_organism'])\n",
    "        value['target_chembl_id'].append(records[i]['target_chembl_id'])\n",
    "        value['type'].append(records[i]['type'])\n",
    "        value['units'].append(records[i]['units'])\n",
    "        value['value'].append(records[i]['value'])\n",
    " \n",
    "    main_dict[drug]['target_organism'] = value['target_organism']\n",
    "    main_dict[drug]['target_chembl_id'] = value['target_chembl_id']\n",
    "    main_dict[drug]['type'] = value['type']\n",
    "    main_dict[drug]['units'] = value['units']\n",
    "    main_dict[drug]['value'] = value['value']"
   ]
  },
  {
   "cell_type": "code",
   "execution_count": null,
   "metadata": {
    "tags": []
   },
   "outputs": [],
   "source": [
    "print(main_dict['CHEMBL10']['target_chembl_id'][:5])\n",
    "print(main_dict['CHEMBL10']['type'][:5])\n",
    "print(main_dict['CHEMBL10']['units'][:5])\n",
    "print(main_dict['CHEMBL10']['value'][:5])"
   ]
  },
  {
   "cell_type": "code",
   "execution_count": null,
   "metadata": {},
   "outputs": [],
   "source": [
    "main_dict['CHEMBL10']['value'][:5]"
   ]
  },
  {
   "cell_type": "code",
   "execution_count": null,
   "metadata": {},
   "outputs": [],
   "source": [
    "records[i]['target_chembl_id']"
   ]
  },
  {
   "cell_type": "code",
   "execution_count": null,
   "metadata": {},
   "outputs": [],
   "source": [
    "main_dict['CHEMBL10']['target_chembl_id']"
   ]
  },
  {
   "cell_type": "code",
   "execution_count": null,
   "metadata": {},
   "outputs": [],
   "source": [
    "# main_dict['CHEMBL10']"
   ]
  },
  {
   "cell_type": "code",
   "execution_count": null,
   "metadata": {
    "tags": []
   },
   "outputs": [],
   "source": [
    "for i in main_dict:\n",
    "    print(i)\n",
    "    print(main_dict[i])\n",
    "    break"
   ]
  },
  {
   "cell_type": "code",
   "execution_count": null,
   "metadata": {},
   "outputs": [],
   "source": [
    "main_dict['CHEMBL10'] = {'target_organism': records[i]['target_organism'], 'target_chembl_id': records[i]['target_chembl_id'], \n",
    "            'type': records[i]['type'], 'units':records[i]['units'],\n",
    "            'value':records[i]['value']}"
   ]
  }
 ]
}