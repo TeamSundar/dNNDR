{
 "metadata": {
  "language_info": {
   "codemirror_mode": {
    "name": "ipython",
    "version": 3
   },
   "file_extension": ".py",
   "mimetype": "text/x-python",
   "name": "python",
   "nbconvert_exporter": "python",
   "pygments_lexer": "ipython3",
   "version": 3
  },
  "orig_nbformat": 2,
  "kernelspec": {
   "name": "python_defaultSpec_1595994417918",
   "display_name": "Python 3.7.4 64-bit"
  }
 },
 "nbformat": 4,
 "nbformat_minor": 2,
 "cells": [
  {
   "cell_type": "code",
   "execution_count": null,
   "metadata": {},
   "outputs": [],
   "source": [
    "import urllib.parse\n",
    "import urllib.request\n",
    "import pandas as pd\n",
    "import wget\n",
    "import os\n",
    "from tqdm import tqdm\n",
    "\n",
    "# https://github.com/ronakvijay/Protein_Sequence_Classification"
   ]
  },
  {
   "cell_type": "code",
   "execution_count": null,
   "metadata": {},
   "outputs": [],
   "source": [
    "url = 'https://www.uniprot.org/uploadlists/'\n",
    "targets = pd.read_csv('data/DTI.csv')\n",
    "fset = pd.DataFrame()"
   ]
  },
  {
   "cell_type": "code",
   "execution_count": null,
   "metadata": {
    "tags": []
   },
   "outputs": [],
   "source": [
    "# Map CHEMBL traget IDs to uniprot ID\n",
    "for i in tqdm(range(len(targets['target'].unique()))):\n",
    "    params = {\n",
    "    'from': 'CHEMBL_ID',\n",
    "    'to': 'ACC',\n",
    "    'format': 'tab',\n",
    "    'query': targets['target'].unique()[i]\n",
    "    }\n",
    "\n",
    "    data = urllib.parse.urlencode(params)\n",
    "    data = data.encode('utf-8')\n",
    "    req = urllib.request.Request(url, data)\n",
    "    with urllib.request.urlopen(req) as f:\n",
    "        response = f.read()\n",
    "    a = response.decode('utf-8')\n",
    "\n",
    "    with open(\"chembl2uniprot2.txt\", \"a\") as file: \n",
    "        file.write('\\n')\n",
    "        file.write(a.split('\\n')[1])\n",
    "        #file.close()"
   ]
  },
  {
   "cell_type": "code",
   "execution_count": null,
   "metadata": {
    "tags": [
     "outputPrepend"
    ]
   },
   "outputs": [],
   "source": [
    "# Extract protin descriptors \n",
    "# ['AAC', 'CKSAAP', 'CTDC', 'CTDD', 'CTDT', 'DDE', 'DPC',\n",
    "# 'GAAC', 'GDPC', 'GTPC', 'TPC', 'QSOrder', 'KSCTriad', 'CTriad']\n",
    "\n",
    "chembl2uniprot = pd.read_csv('chembl2uniprot.txt', sep='\\t', header=None)\n",
    "des_type = 'AAC'\n",
    "for CHEMBL_ID, uniprot_ID in zip(chembl2uniprot[0], chembl2uniprot[1]):\n",
    "    print(CHEMBL_ID, uniprot_ID)\n",
    "    push ='python F:/Projects/202004_DrugTargetNN/iFeature/iFeature.py --file %s --type %s'%('fasta/'+uniprot_ID+'.fasta', des_type)\n",
    "    os.system(push)\n",
    "    enc = pd.read_csv('encoding.tsv', delimiter='\\t', encoding='utf-8')\n",
    "    enc['uniprot_ID'] = uniprot_ID\n",
    "    enc['CHEMBL_ID'] = CHEMBL_ID\n",
    "    fset = fset.append(enc)\n",
    "fset.to_csv('data/target_'+ des_type + '.csv')"
   ]
  }
 ]
}