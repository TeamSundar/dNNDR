{
 "metadata": {
  "language_info": {
   "codemirror_mode": {
    "name": "ipython",
    "version": 3
   },
   "file_extension": ".py",
   "mimetype": "text/x-python",
   "name": "python",
   "nbconvert_exporter": "python",
   "pygments_lexer": "ipython3",
   "version": 3
  },
  "orig_nbformat": 2,
  "kernelspec": {
   "name": "python_defaultSpec_1596090225331",
   "display_name": "Python 3.7.4 64-bit ('20202507_dNNDR': virtualenv)"
  }
 },
 "nbformat": 4,
 "nbformat_minor": 2,
 "cells": [
  {
   "cell_type": "code",
   "execution_count": null,
   "metadata": {},
   "outputs": [],
   "source": [
    "import pandas as pd\n",
    "# Python modules used for API access...\n",
    "from chembl_webresource_client.new_client import new_client\n",
    "from tqdm import tqdm\n",
    "import pickle\n",
    "import numpy as np"
   ]
  },
  {
   "cell_type": "code",
   "execution_count": null,
   "metadata": {},
   "outputs": [],
   "source": [
    "KIBA_drugs = pd.read_csv('data/KIBA_drugs.csv')"
   ]
  },
  {
   "cell_type": "code",
   "execution_count": null,
   "metadata": {},
   "outputs": [],
   "source": [
    "main_dict = dict.fromkeys(KIBA_drugs['drugs'].tolist(), [])\n",
    "for drug in main_dict:\n",
    "    main_dict[drug] = dict.fromkeys(['target_organism', 'target_chembl_id', 'type', 'units', 'value'],[])"
   ]
  },
  {
   "cell_type": "code",
   "execution_count": null,
   "metadata": {
    "tags": []
   },
   "outputs": [],
   "source": [
    "for drug in tqdm(main_dict): \n",
    "    records = new_client.activity.filter(molecule_chembl_id=drug).only(['target_organism', 'target_chembl_id', 'type', 'units', 'value'])\n",
    "\n",
    "    target_chembl_id, target_organism, type, units, value = [], [], [], [], []\n",
    "    for a in records:\n",
    "        target_chembl_id.append(a['target_chembl_id'])\n",
    "        target_organism.append(a['target_organism'])\n",
    "        type.append(a['type'])\n",
    "        units.append(a['units'])\n",
    "        value.append(a['value'])\n",
    "        \n",
    "    main_dict[drug]['target_organism'] = target_chembl_id\n",
    "    main_dict[drug]['target_chembl_id'] = target_chembl_id\n",
    "    main_dict[drug]['type'] = type\n",
    "    main_dict[drug]['units'] = units\n",
    "    main_dict[drug]['value'] = value"
   ]
  },
  {
   "cell_type": "code",
   "execution_count": null,
   "metadata": {
    "tags": []
   },
   "outputs": [],
   "source": [
    "print(main_dict['CHEMBL10']['target_chembl_id'][:5])\n",
    "print(main_dict['CHEMBL10']['type'][:5])\n",
    "print(main_dict['CHEMBL10']['units'][:5])\n",
    "print(main_dict['CHEMBL10']['value'][:5])"
   ]
  },
  {
   "cell_type": "code",
   "execution_count": null,
   "metadata": {},
   "outputs": [],
   "source": [
    "import pandas as pd\n",
    "DTI = pd.read_csv('data/DTI.csv')\n",
    "Counter(DTI['unit'])"
   ]
  },
  {
   "cell_type": "code",
   "execution_count": null,
   "metadata": {},
   "outputs": [],
   "source": [
    "DTI"
   ]
  },
  {
   "cell_type": "code",
   "execution_count": null,
   "metadata": {
    "tags": []
   },
   "outputs": [],
   "source": [
    "# set(chembl2uniprot[0]) & set(DTI['target'])"
   ]
  },
  {
   "cell_type": "code",
   "execution_count": null,
   "metadata": {
    "tags": []
   },
   "outputs": [],
   "source": [
    "from tqdm import tqdm\n",
    "total=0\n",
    "for target in tqdm(chembl2uniprot[0]):\n",
    "    total = total+Counter(DTI['target'])[target]\n",
    "    #print(target, Counter(DTI['target'])[target])\n",
    "print(total)"
   ]
  },
  {
   "cell_type": "code",
   "execution_count": null,
   "metadata": {
    "tags": []
   },
   "outputs": [],
   "source": [
    "chembl2uniprot = pd.read_csv('chembl2uniprot.txt', sep='\\t', header=None)"
   ]
  },
  {
   "cell_type": "code",
   "execution_count": null,
   "metadata": {},
   "outputs": [],
   "source": [
    "chembl2uniprot[0]"
   ]
  }
 ]
}