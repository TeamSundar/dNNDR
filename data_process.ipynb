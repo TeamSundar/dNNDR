{
 "metadata": {
  "language_info": {
   "codemirror_mode": {
    "name": "ipython",
    "version": 3
   },
   "file_extension": ".py",
   "mimetype": "text/x-python",
   "name": "python",
   "nbconvert_exporter": "python",
   "pygments_lexer": "ipython3",
   "version": 3
  },
  "orig_nbformat": 2,
  "kernelspec": {
   "name": "python_defaultSpec_1596019999835",
   "display_name": "Python 3.7.4 64-bit ('20202507_dNNDR': virtualenv)"
  }
 },
 "nbformat": 4,
 "nbformat_minor": 2,
 "cells": [
  {
   "cell_type": "code",
   "execution_count": 1,
   "metadata": {},
   "outputs": [],
   "source": [
    "import numpy as np\n",
    "import pandas as pd\n",
    "import pickle\n",
    "from tqdm import tqdm\n",
    "# from rdkit import Chem\n",
    "# from rdkit.ML.Descriptors.MoleculeDescriptors import MolecularDescriptorCalculator as md\n",
    "# from rdkit import DataStructs\n",
    "# from chembl_webresource_client.new_client import new_client"
   ]
  },
  {
   "cell_type": "code",
   "execution_count": 2,
   "metadata": {},
   "outputs": [],
   "source": [
    "# Save dict \n",
    "def save_obj(obj, name):\n",
    "    with open('data/'+ name + '.pkl', 'wb') as f:\n",
    "        pickle.dump(obj, f, pickle.HIGHEST_PROTOCOL)\n",
    "\n",
    "# Load dict\n",
    "def load_obj(name):\n",
    "    with open('data/' + name + '.pkl', 'rb') as f:\n",
    "        return pickle.load(f)\n",
    "\n",
    "# Extract drug descriptors from smile string\n",
    "def mol2des(chembl_id, attribs):\n",
    "    try: \n",
    "        m = Chem.MolFromSmiles(new_client.activity.filter(molecule_chembl_id=chembl_id).only(['canonical_smiles'])[0]['canonical_smiles'])\n",
    "        calc = md(attribs)\n",
    "        des = pd.DataFrame(calc.CalcDescriptors(m)).T\n",
    "        des.columns = attribs\n",
    "        des['Drug'] = str(chembl_id)\n",
    "        status = True\n",
    "    except:\n",
    "        des=[]\n",
    "        status = False\n",
    "    return des, status\n",
    "\n",
    "# load dict \n",
    "drug_target = load_obj('drug_target')"
   ]
  },
  {
   "cell_type": "code",
   "execution_count": 7,
   "metadata": {
    "tags": []
   },
   "outputs": [
    {
     "output_type": "stream",
     "name": "stderr",
     "text": "100%|██████████| 52498/52498 [43:19<00:00, 20.20it/s]\n"
    },
    {
     "output_type": "execute_result",
     "data": {
      "text/plain": "       target_organism          drug      target    IC50 unit\n175885    Homo sapiens  CHEMBL388956   CHEMBL308   214.0   nM\n175886    Homo sapiens  CHEMBL388956   CHEMBL331  1420.0   nM\n175887    Homo sapiens  CHEMBL388956  CHEMBL2185  2140.0   nM\n175888    Homo sapiens  CHEMBL388966  CHEMBL2431    10.0   nM\n175889    Homo sapiens  CHEMBL388966  CHEMBL2534     1.0   uM",
      "text/html": "<div>\n<style scoped>\n    .dataframe tbody tr th:only-of-type {\n        vertical-align: middle;\n    }\n\n    .dataframe tbody tr th {\n        vertical-align: top;\n    }\n\n    .dataframe thead th {\n        text-align: right;\n    }\n</style>\n<table border=\"1\" class=\"dataframe\">\n  <thead>\n    <tr style=\"text-align: right;\">\n      <th></th>\n      <th>target_organism</th>\n      <th>drug</th>\n      <th>target</th>\n      <th>IC50</th>\n      <th>unit</th>\n    </tr>\n  </thead>\n  <tbody>\n    <tr>\n      <th>175885</th>\n      <td>Homo sapiens</td>\n      <td>CHEMBL388956</td>\n      <td>CHEMBL308</td>\n      <td>214.0</td>\n      <td>nM</td>\n    </tr>\n    <tr>\n      <th>175886</th>\n      <td>Homo sapiens</td>\n      <td>CHEMBL388956</td>\n      <td>CHEMBL331</td>\n      <td>1420.0</td>\n      <td>nM</td>\n    </tr>\n    <tr>\n      <th>175887</th>\n      <td>Homo sapiens</td>\n      <td>CHEMBL388956</td>\n      <td>CHEMBL2185</td>\n      <td>2140.0</td>\n      <td>nM</td>\n    </tr>\n    <tr>\n      <th>175888</th>\n      <td>Homo sapiens</td>\n      <td>CHEMBL388966</td>\n      <td>CHEMBL2431</td>\n      <td>10.0</td>\n      <td>nM</td>\n    </tr>\n    <tr>\n      <th>175889</th>\n      <td>Homo sapiens</td>\n      <td>CHEMBL388966</td>\n      <td>CHEMBL2534</td>\n      <td>1.0</td>\n      <td>uM</td>\n    </tr>\n  </tbody>\n</table>\n</div>"
     },
     "metadata": {},
     "execution_count": 7
    }
   ],
   "source": [
    "# Extract Drug-Target pairs for Homo-Sapiens with IC50 values\n",
    "DTI = pd.DataFrame(columns=['target_organism', 'drug', 'target', 'IC50', 'unit'])\n",
    "for drug in tqdm(drug_target):\n",
    "    for i in range(len(drug_target[drug]['target_chembl_id'])):\n",
    "        if drug_target[drug]['type'][i]=='IC50' and drug_target[drug]['target_organism'][i]=='Homo sapiens':\n",
    "            dict = {'target_organism':drug_target[drug]['target_organism'][i], \n",
    "                    'drug':drug,\n",
    "                    'target':drug_target[drug]['target_chembl_id'][i],\n",
    "                    'IC50':drug_target[drug]['value'][i],\n",
    "                    'unit':drug_target[drug]['units'][i]}\n",
    "            DTI = DTI.append(dict, True)\n",
    "\n",
    "# Save to file\n",
    "DTI.to_csv('data/DTI2.csv')\n",
    "DTI.tail()"
   ]
  },
  {
   "cell_type": "code",
   "execution_count": 31,
   "metadata": {},
   "outputs": [],
   "source": [
    "chembl2uniprot = pd.read_csv('data/chembl2uniprot.txt', sep='\\t', header=None)  #Import CHEMBL_ID to uniprot_ID mapping\n",
    "units=['nM','uM','pM','mM']     # Units to be selected\n",
    "DTI_screened_units = DTI.loc[DTI['unit'].isin(units)]   # Extract datapoints with required units\n",
    "DTI_screened_mapping = DTI_screened_units[DTI_screened_units['target'].isin(chembl2uniprot[0].tolist())]    # Extract datapoints for which uniprot_ID ia available"
   ]
  },
  {
   "cell_type": "code",
   "execution_count": 51,
   "metadata": {
    "tags": []
   },
   "outputs": [
    {
     "output_type": "stream",
     "name": "stdout",
     "text": "Total targets and datapoints acquired   : 2042 | 175890\nTargets and datapoints after IC50 screen: 1976 | 128448\nRemoving NaNs and unannotated CHEMBL_ID : 968 | 77396\n"
    }
   ],
   "source": [
    "# Summary statistics\n",
    "print('Total targets and datapoints acquired   : %s | %s'%(len(DTI['target'].unique()), len(DTI)))\n",
    "print('Targets and datapoints after IC50 screen: %s | %s'%(len(DTI_screened_units['target'].unique()), len(DTI_screened_units)))\n",
    "print('Removing NaNs and unannotated CHEMBL_ID : %s | %s'%(len(DTI_screened_mapping['target'].unique()), len(DTI_screened_mapping)))"
   ]
  },
  {
   "cell_type": "code",
   "execution_count": 46,
   "metadata": {},
   "outputs": [
    {
     "output_type": "execute_result",
     "data": {
      "text/plain": "   target_organism      drug      target    IC50 unit\n0     Homo sapiens  CHEMBL10   CHEMBL260    0.29   uM\n9     Homo sapiens  CHEMBL10   CHEMBL221  5000.0   nM\n10    Homo sapiens  CHEMBL10  CHEMBL4439    30.0   uM\n11    Homo sapiens  CHEMBL10   CHEMBL260   0.038   uM\n13    Homo sapiens  CHEMBL10  CHEMBL1906   330.0   nM",
      "text/html": "<div>\n<style scoped>\n    .dataframe tbody tr th:only-of-type {\n        vertical-align: middle;\n    }\n\n    .dataframe tbody tr th {\n        vertical-align: top;\n    }\n\n    .dataframe thead th {\n        text-align: right;\n    }\n</style>\n<table border=\"1\" class=\"dataframe\">\n  <thead>\n    <tr style=\"text-align: right;\">\n      <th></th>\n      <th>target_organism</th>\n      <th>drug</th>\n      <th>target</th>\n      <th>IC50</th>\n      <th>unit</th>\n    </tr>\n  </thead>\n  <tbody>\n    <tr>\n      <th>0</th>\n      <td>Homo sapiens</td>\n      <td>CHEMBL10</td>\n      <td>CHEMBL260</td>\n      <td>0.29</td>\n      <td>uM</td>\n    </tr>\n    <tr>\n      <th>9</th>\n      <td>Homo sapiens</td>\n      <td>CHEMBL10</td>\n      <td>CHEMBL221</td>\n      <td>5000.0</td>\n      <td>nM</td>\n    </tr>\n    <tr>\n      <th>10</th>\n      <td>Homo sapiens</td>\n      <td>CHEMBL10</td>\n      <td>CHEMBL4439</td>\n      <td>30.0</td>\n      <td>uM</td>\n    </tr>\n    <tr>\n      <th>11</th>\n      <td>Homo sapiens</td>\n      <td>CHEMBL10</td>\n      <td>CHEMBL260</td>\n      <td>0.038</td>\n      <td>uM</td>\n    </tr>\n    <tr>\n      <th>13</th>\n      <td>Homo sapiens</td>\n      <td>CHEMBL10</td>\n      <td>CHEMBL1906</td>\n      <td>330.0</td>\n      <td>nM</td>\n    </tr>\n  </tbody>\n</table>\n</div>"
     },
     "metadata": {},
     "execution_count": 46
    }
   ],
   "source": [
    "DTI_screened_mapping.head()"
   ]
  },
  {
   "cell_type": "code",
   "execution_count": 50,
   "metadata": {},
   "outputs": [
    {
     "output_type": "execute_result",
     "data": {
      "text/plain": "Counter({'uM': 93520,\n         'nM': 34712,\n         'umol/L': 232,\n         None: 44707,\n         'ug ml-1': 912,\n         'uM l-1': 247,\n         'uM dm**-3': 32,\n         'mM': 201,\n         'um': 918,\n         'microM': 54,\n         \"10'-3 ug/ml\": 2,\n         'pM': 15,\n         'uM/L': 6,\n         \"10'-2microM\": 8,\n         'mg.min/m3': 1,\n         'M': 72,\n         'ng/ml': 17,\n         'uM/ml': 7,\n         \"10'-1microM\": 3,\n         \"10'-5M\": 20,\n         'umol': 29,\n         'g/ml': 2,\n         \"10'-8M\": 6,\n         \"10'-4mM\": 1,\n         \"10'-3mM\": 1,\n         'nmol/L': 14,\n         'mg/ml': 12,\n         \"10'1 ug/ml\": 11,\n         \"10'-3M\": 2,\n         'ug/mL': 27,\n         \"10'4nM\": 1,\n         \"10'-7mg/ml\": 1,\n         \"10'3 uM\": 1,\n         '%': 10,\n         'microM/L': 3,\n         \"10'-4microM\": 3,\n         \"10'-3microM\": 8,\n         \"10'-9mol/L\": 1,\n         'mg ml-1': 1,\n         \"10'-7M\": 15,\n         \"10'-4nM\": 1,\n         \"10'2 uM\": 4,\n         \"10'-6M\": 10,\n         'nM equiv l-1': 4,\n         'umol/ml': 1,\n         'ug/ml': 1,\n         'ug': 1,\n         \"10'-2 ug/ml\": 2,\n         'microg/ml': 2,\n         \"10'-1 ug/ml\": 6,\n         \"10'-10M\": 2,\n         \"10'-4M\": 8,\n         '/uM/s': 1,\n         \"10'2 ug/ml\": 3,\n         \"10'1 uM\": 3,\n         'umol/dm3': 2,\n         'ng ml-1': 1,\n         \"10'-9M\": 3})"
     },
     "metadata": {},
     "execution_count": 50
    }
   ],
   "source": [
    "from collections import Counter\n",
    "Counter(DTI['unit'])"
   ]
  },
  {
   "cell_type": "code",
   "execution_count": null,
   "metadata": {},
   "outputs": [],
   "source": [
    "# Summary Statistic for DTI\n",
    "units, targets = [], []\n",
    "for drug in drug_target:\n",
    "    units.append(drug_target[drug]['type'])\n",
    "    targets.append(drug_target[drug]['target_chembl_id'])\n",
    "flatten_units = [j for sub in units for j in sub] \n",
    "flatten_targets = [j for sub in targets for j in sub] \n",
    "\n",
    "print('Measurements recorded: %s IC50, %s Kd and %s Ki'%(flatten_units.count('IC50'), flatten_units.count('Kd'), flatten_units.count('Ki')))\n",
    "print('Total targets recorded: %s'%len(np.unique(np.array(flatten_targets))))\n",
    "print('Targets with IC50 values: %s'%(len(DTI['target'].unique())))"
   ]
  },
  {
   "cell_type": "code",
   "execution_count": null,
   "metadata": {},
   "outputs": [],
   "source": [
    "# Extract drug descriptors\n",
    "attribs = [\n",
    "      'MaxAbsPartialCharge', 'MinPartialCharge', 'MinAbsPartialCharge',\n",
    "      'HeavyAtomMolWt', 'MaxAbsEStateIndex', 'NumRadicalElectrons',\n",
    "      'NumValenceElectrons', 'MinAbsEStateIndex', 'MaxEStateIndex',\n",
    "      'MaxPartialCharge', 'MinEStateIndex', 'ExactMolWt', 'MolWt', 'BalabanJ',\n",
    "      'BertzCT', 'Chi0', 'Chi0n', 'Chi0v', 'Chi1', 'Chi1n', 'Chi1v', 'Chi2n',\n",
    "      'Chi2v', 'Chi3n', 'Chi3v', 'Chi4n', 'Chi4v', 'HallKierAlpha', 'Ipc',\n",
    "      'Kappa1', 'Kappa2', 'Kappa3', 'LabuteASA', 'PEOE_VSA1', 'PEOE_VSA10',\n",
    "      'PEOE_VSA11', 'PEOE_VSA12', 'PEOE_VSA13', 'PEOE_VSA14', 'PEOE_VSA2',\n",
    "      'PEOE_VSA3', 'PEOE_VSA4', 'PEOE_VSA5', 'PEOE_VSA6', 'PEOE_VSA7',\n",
    "      'PEOE_VSA8', 'PEOE_VSA9', 'SMR_VSA1', 'SMR_VSA10', 'SMR_VSA2', 'SMR_VSA3',\n",
    "      'SMR_VSA4', 'SMR_VSA5', 'SMR_VSA6', 'SMR_VSA7', 'SMR_VSA8', 'SMR_VSA9',\n",
    "      'SlogP_VSA1', 'SlogP_VSA10', 'SlogP_VSA11', 'SlogP_VSA12', 'SlogP_VSA2',\n",
    "      'SlogP_VSA3', 'SlogP_VSA4', 'SlogP_VSA5', 'SlogP_VSA6', 'SlogP_VSA7',\n",
    "      'SlogP_VSA8', 'SlogP_VSA9', 'TPSA', 'EState_VSA1', 'EState_VSA10',\n",
    "      'EState_VSA11', 'EState_VSA2', 'EState_VSA3', 'EState_VSA4',\n",
    "      'EState_VSA5', 'EState_VSA6', 'EState_VSA7', 'EState_VSA8', 'EState_VSA9',\n",
    "      'VSA_EState1', 'VSA_EState10', 'VSA_EState2', 'VSA_EState3',\n",
    "      'VSA_EState4', 'VSA_EState5', 'VSA_EState6', 'VSA_EState7', 'VSA_EState8',\n",
    "      'VSA_EState9', 'FractionCSP3', 'HeavyAtomCount', 'NHOHCount', 'NOCount',\n",
    "      'NumAliphaticCarbocycles', 'NumAliphaticHeterocycles',\n",
    "      'NumAliphaticRings', 'NumAromaticCarbocycles', 'NumAromaticHeterocycles',\n",
    "      'NumAromaticRings', 'NumHAcceptors', 'NumHDonors', 'NumHeteroatoms',\n",
    "      'NumRotatableBonds', 'NumSaturatedCarbocycles',\n",
    "      'NumSaturatedHeterocycles', 'NumSaturatedRings', 'RingCount', 'MolLogP',\n",
    "      'MolMR'\n",
    "    ]\n",
    "\n",
    "fset_mol=pd.DataFrame()\n",
    "KIBA_drugs = pd.read_csv('data/KIBA_drugs.csv')\n",
    "\n",
    "for chembl_id in tqdm(KIBA_drugs['drugs']):\n",
    "    descriptors, status = mol2des(chembl_id, attribs)\n",
    "    if status:\n",
    "        fset_mol = fset_mol.append(descriptors)\n",
    "fset_mol.to_csv('fset_KIBA_drugs.csv')"
   ]
  }
 ]
}