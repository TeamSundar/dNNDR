{
 "metadata": {
  "language_info": {
   "codemirror_mode": {
    "name": "ipython",
    "version": 3
   },
   "file_extension": ".py",
   "mimetype": "text/x-python",
   "name": "python",
   "nbconvert_exporter": "python",
   "pygments_lexer": "ipython3",
   "version": 3
  },
  "orig_nbformat": 2,
  "kernelspec": {
   "name": "python_defaultSpec_1595866040883",
   "display_name": "Python 3.7.4 64-bit ('20202507_dNNDR': virtualenv)"
  }
 },
 "nbformat": 4,
 "nbformat_minor": 2,
 "cells": [
  {
   "cell_type": "code",
   "execution_count": 2,
   "metadata": {},
   "outputs": [],
   "source": [
    "import numpy as np\n",
    "import pandas as pd\n",
    "import pickle\n",
    "# from rdkit import Chem\n",
    "# from rdkit.ML.Descriptors.MoleculeDescriptors import MolecularDescriptorCalculator as md\n",
    "# from rdkit import DataStructs\n",
    "from chembl_webresource_client.new_client import new_client"
   ]
  },
  {
   "cell_type": "code",
   "execution_count": 3,
   "metadata": {},
   "outputs": [],
   "source": [
    "# Save dict \n",
    "def save_obj(obj, name):\n",
    "    with open('data/'+ name + '.pkl', 'wb') as f:\n",
    "        pickle.dump(obj, f, pickle.HIGHEST_PROTOCOL)\n",
    "\n",
    "# Load dict\n",
    "def load_obj(name):\n",
    "    with open('data/' + name + '.pkl', 'rb') as f:\n",
    "        return pickle.load(f)\n",
    "\n",
    "# Extract drug descriptors from smile string\n",
    "def mol2des(chembl_id, attribs):\n",
    "    try: \n",
    "        m = Chem.MolFromSmiles(new_client.activity.filter(molecule_chembl_id=chembl_id).only(['canonical_smiles'])[0]['canonical_smiles'])\n",
    "        calc = md(attribs)\n",
    "        des = pd.DataFrame(calc.CalcDescriptors(m)).T\n",
    "        des.columns = attribs\n",
    "        des['Drug'] = str(chembl_id)\n",
    "        status = True\n",
    "    except:\n",
    "        des=[]\n",
    "        status = False\n",
    "    return des, status\n",
    "\n",
    "# load dict \n",
    "drug_target = load_obj('drug_target')"
   ]
  },
  {
   "cell_type": "code",
   "execution_count": 92,
   "metadata": {
    "tags": []
   },
   "outputs": [
    {
     "output_type": "stream",
     "name": "stderr",
     "text": "100%|██████████| 52498/52498 [55:51<00:00, 15.67it/s]\n"
    }
   ],
   "source": [
    "# Extract Drug-Target pairs with IC50 values\n",
    "DTI = pd.DataFrame(columns=['drug', 'target', 'IC50', 'unit'])\n",
    "for drug in tqdm(drug_target):\n",
    "    for i in range(len(drug_target[drug]['target_chembl_id'])):\n",
    "        if drug_target[drug]['type'][i]=='IC50':\n",
    "            dict = {'drug':drug, 'target':drug_target[drug]['target_chembl_id'][i],\n",
    "                    'IC50':drug_target[drug]['value'][i], 'unit':drug_target[drug]['units'][i]}\n",
    "            DTI = DTI.append(dict, True)\n",
    "\n",
    "# Save to file\n",
    "DTI.to_csv('data/DTI.csv')\n",
    "\n",
    "# Summary Statistic for DTI\n",
    "units, targets = [], []\n",
    "for drug in drug_target:\n",
    "    units.append(drug_target[drug]['type'])\n",
    "    targets.append(drug_target[drug]['target_chembl_id'])\n",
    "flatten_units = [j for sub in units for j in sub] \n",
    "flatten_targets = [j for sub in targets for j in sub] \n",
    "\n",
    "print('Measurements recorded: %s IC50, %s Kd and %s Ki'%(flatten_units.count('IC50'), flatten_units.count('Kd'), flatten_units.count('Ki')))\n",
    "print('Total targets recorded: %s'%len(np.unique(np.array(flatten_targets))))\n",
    "print('Targets with IC50 values: %s'%(len(DTI['target'].unique())))\n",
    "\n",
    "DTI.tail()"
   ]
  },
  {
   "cell_type": "code",
   "execution_count": null,
   "metadata": {},
   "outputs": [],
   "source": [
    "# Extract drug descriptors\n",
    "attribs = [\n",
    "      'MaxAbsPartialCharge', 'MinPartialCharge', 'MinAbsPartialCharge',\n",
    "      'HeavyAtomMolWt', 'MaxAbsEStateIndex', 'NumRadicalElectrons',\n",
    "      'NumValenceElectrons', 'MinAbsEStateIndex', 'MaxEStateIndex',\n",
    "      'MaxPartialCharge', 'MinEStateIndex', 'ExactMolWt', 'MolWt', 'BalabanJ',\n",
    "      'BertzCT', 'Chi0', 'Chi0n', 'Chi0v', 'Chi1', 'Chi1n', 'Chi1v', 'Chi2n',\n",
    "      'Chi2v', 'Chi3n', 'Chi3v', 'Chi4n', 'Chi4v', 'HallKierAlpha', 'Ipc',\n",
    "      'Kappa1', 'Kappa2', 'Kappa3', 'LabuteASA', 'PEOE_VSA1', 'PEOE_VSA10',\n",
    "      'PEOE_VSA11', 'PEOE_VSA12', 'PEOE_VSA13', 'PEOE_VSA14', 'PEOE_VSA2',\n",
    "      'PEOE_VSA3', 'PEOE_VSA4', 'PEOE_VSA5', 'PEOE_VSA6', 'PEOE_VSA7',\n",
    "      'PEOE_VSA8', 'PEOE_VSA9', 'SMR_VSA1', 'SMR_VSA10', 'SMR_VSA2', 'SMR_VSA3',\n",
    "      'SMR_VSA4', 'SMR_VSA5', 'SMR_VSA6', 'SMR_VSA7', 'SMR_VSA8', 'SMR_VSA9',\n",
    "      'SlogP_VSA1', 'SlogP_VSA10', 'SlogP_VSA11', 'SlogP_VSA12', 'SlogP_VSA2',\n",
    "      'SlogP_VSA3', 'SlogP_VSA4', 'SlogP_VSA5', 'SlogP_VSA6', 'SlogP_VSA7',\n",
    "      'SlogP_VSA8', 'SlogP_VSA9', 'TPSA', 'EState_VSA1', 'EState_VSA10',\n",
    "      'EState_VSA11', 'EState_VSA2', 'EState_VSA3', 'EState_VSA4',\n",
    "      'EState_VSA5', 'EState_VSA6', 'EState_VSA7', 'EState_VSA8', 'EState_VSA9',\n",
    "      'VSA_EState1', 'VSA_EState10', 'VSA_EState2', 'VSA_EState3',\n",
    "      'VSA_EState4', 'VSA_EState5', 'VSA_EState6', 'VSA_EState7', 'VSA_EState8',\n",
    "      'VSA_EState9', 'FractionCSP3', 'HeavyAtomCount', 'NHOHCount', 'NOCount',\n",
    "      'NumAliphaticCarbocycles', 'NumAliphaticHeterocycles',\n",
    "      'NumAliphaticRings', 'NumAromaticCarbocycles', 'NumAromaticHeterocycles',\n",
    "      'NumAromaticRings', 'NumHAcceptors', 'NumHDonors', 'NumHeteroatoms',\n",
    "      'NumRotatableBonds', 'NumSaturatedCarbocycles',\n",
    "      'NumSaturatedHeterocycles', 'NumSaturatedRings', 'RingCount', 'MolLogP',\n",
    "      'MolMR'\n",
    "    ]\n",
    "\n",
    "fset_mol=pd.DataFrame()\n",
    "KIBA_drugs = pd.read_csv('data/KIBA_drugs.csv')\n",
    "\n",
    "for chembl_id in tqdm(KIBA_drugs['drugs']):\n",
    "    descriptors, status = mol2des(chembl_id, attribs)\n",
    "    if status:\n",
    "        fset_mol = fset_mol.append(descriptors)\n",
    "fset_mol.to_csv('fset_KIBA_drugs.csv')"
   ]
  },
  {
   "cell_type": "code",
   "execution_count": 33,
   "metadata": {},
   "outputs": [
    {
     "output_type": "execute_result",
     "data": {
      "text/plain": "        Unnamed: 0          drug        target     IC50 unit\n224179      224179  CHEMBL388956     CHEMBL331   1420.0   nM\n224180      224180  CHEMBL388956    CHEMBL2185   2140.0   nM\n224181      224181  CHEMBL388956  CHEMBL612545  35335.0   nM\n224182      224182  CHEMBL388966    CHEMBL2431     10.0   nM\n224183      224183  CHEMBL388966    CHEMBL2534      1.0   uM",
      "text/html": "<div>\n<style scoped>\n    .dataframe tbody tr th:only-of-type {\n        vertical-align: middle;\n    }\n\n    .dataframe tbody tr th {\n        vertical-align: top;\n    }\n\n    .dataframe thead th {\n        text-align: right;\n    }\n</style>\n<table border=\"1\" class=\"dataframe\">\n  <thead>\n    <tr style=\"text-align: right;\">\n      <th></th>\n      <th>Unnamed: 0</th>\n      <th>drug</th>\n      <th>target</th>\n      <th>IC50</th>\n      <th>unit</th>\n    </tr>\n  </thead>\n  <tbody>\n    <tr>\n      <th>224179</th>\n      <td>224179</td>\n      <td>CHEMBL388956</td>\n      <td>CHEMBL331</td>\n      <td>1420.0</td>\n      <td>nM</td>\n    </tr>\n    <tr>\n      <th>224180</th>\n      <td>224180</td>\n      <td>CHEMBL388956</td>\n      <td>CHEMBL2185</td>\n      <td>2140.0</td>\n      <td>nM</td>\n    </tr>\n    <tr>\n      <th>224181</th>\n      <td>224181</td>\n      <td>CHEMBL388956</td>\n      <td>CHEMBL612545</td>\n      <td>35335.0</td>\n      <td>nM</td>\n    </tr>\n    <tr>\n      <th>224182</th>\n      <td>224182</td>\n      <td>CHEMBL388966</td>\n      <td>CHEMBL2431</td>\n      <td>10.0</td>\n      <td>nM</td>\n    </tr>\n    <tr>\n      <th>224183</th>\n      <td>224183</td>\n      <td>CHEMBL388966</td>\n      <td>CHEMBL2534</td>\n      <td>1.0</td>\n      <td>uM</td>\n    </tr>\n  </tbody>\n</table>\n</div>"
     },
     "metadata": {},
     "execution_count": 33
    }
   ],
   "source": [
    "# Extract target descriptors\n"
   ]
  },
  {
   "cell_type": "code",
   "execution_count": 31,
   "metadata": {
    "tags": []
   },
   "outputs": [
    {
     "output_type": "stream",
     "name": "stdout",
     "text": "Measurements recorded: 224184 IC50, 28763 Kd and 79203 Ki\nTotal targets recorded: 5724\nTargets with IC50 values: 3146\n"
    }
   ],
   "source": []
  }
 ]
}