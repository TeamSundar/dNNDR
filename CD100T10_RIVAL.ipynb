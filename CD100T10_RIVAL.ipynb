{
 "metadata": {
  "language_info": {
   "codemirror_mode": {
    "name": "ipython",
    "version": 3
   },
   "file_extension": ".py",
   "mimetype": "text/x-python",
   "name": "python",
   "nbconvert_exporter": "python",
   "pygments_lexer": "ipython3",
   "version": "3.7.4-final"
  },
  "orig_nbformat": 2,
  "kernelspec": {
   "name": "python_defaultSpec_1597834997481",
   "display_name": "Python 3.7.4 64-bit"
  }
 },
 "nbformat": 4,
 "nbformat_minor": 2,
 "cells": [
  {
   "cell_type": "code",
   "execution_count": 6,
   "metadata": {},
   "outputs": [],
   "source": [
    "import os\n",
    "import gc\n",
    "\n",
    "import numpy as np\n",
    "import pandas as pd\n",
    "import matplotlib.pyplot as plt\n",
    "import seaborn as sns\n",
    "import collections\n",
    "\n",
    "from tqdm import tqdm\n",
    "from functions import ANALYSIS\n",
    "from architecture import ARCHITECTURE\n",
    "import architecture\n",
    "\n",
    "from collections import Counter\n",
    "from IPython.display import Image\n",
    "\n",
    "from sklearn.preprocessing import LabelEncoder\n",
    "from sklearn.metrics import f1_score\n",
    "\n",
    "from tensorflow.keras.callbacks import ModelCheckpoint, EarlyStopping, ReduceLROnPlateau\n",
    "from tensorflow.keras.models import *\n",
    "from tensorflow.keras.layers import *\n",
    "#from tensorflow.compat.v1.keras.layers import CuDNLSTM\n",
    "from tensorflow.keras.preprocessing.sequence import pad_sequences\n",
    "from tensorflow.keras.utils import to_categorical\n",
    "\n",
    "import tensorflow.keras.backend as K\n",
    "import keras\n",
    "\n",
    "from tensorflow.compat.v1 import ConfigProto\n",
    "from tensorflow.compat.v1 import InteractiveSession\n",
    "import tensorflow as tf\n",
    "\n",
    "config = ConfigProto()\n",
    "config.gpu_options.allow_growth = True\n",
    "session = InteractiveSession(config=config)\n",
    "\n",
    "EXP = 'CD101T10_RIVAL'\n",
    "\n",
    "obj = ANALYSIS(EXP)\n",
    "arch_obj = ARCHITECTURE()"
   ]
  },
  {
   "cell_type": "code",
   "execution_count": 2,
   "metadata": {},
   "outputs": [],
   "source": [
    "P = pd.read_csv('data/ProtSeqForModel.csv')\n",
    "D = pd.read_csv('data/DrugSeqForModel.csv')\n",
    "des_drug = np.load('data/DrugDesForModel.npy')\n",
    "\n",
    "drug_smiles=pd.read_csv('data/drug_smiles.csv')[['drug','smile','seq_char_count']]\n",
    "DTI_index=pd.read_csv('data/DTI_index.csv')[['target','drug','IC50','unit','activity','target_uniprot']]"
   ]
  },
  {
   "cell_type": "code",
   "execution_count": 3,
   "metadata": {},
   "outputs": [],
   "source": [
    "# Encode amino acides and smile characters\n",
    "codes_target = ['A', 'C', 'D', 'E', 'F', 'G', 'H', 'I', 'K', 'L',\n",
    "         'M', 'N', 'P', 'Q', 'R', 'S', 'T', 'V', 'W', 'Y']\n",
    "char_dict_target = obj.create_dict(codes_target)\n",
    "\n",
    "codes_drug = [char for char in ''.join(set(''.join(drug_smiles['smile'].values)))]\n",
    "char_dict_drug = obj.create_dict(codes_drug)\n",
    "\n",
    "encode_target = obj.integer_encoding(P, char_dict_target) \n",
    "encode_drug = obj.integer_encoding(D, char_dict_drug) \n",
    "\n",
    "# padding sequences\n",
    "max_length_target = 1000\n",
    "max_length_drug = 150\n",
    "pad_target = pad_sequences(encode_target, maxlen=max_length_target, padding='post', truncating='post')\n",
    "pad_drug = pad_sequences(encode_drug, maxlen=max_length_drug, padding='post', truncating='post')\n",
    "\n",
    "# label/integer encoding output variable: (y)\n",
    "le = LabelEncoder()\n",
    "y = le.fit_transform(DTI_index['activity'].tolist())\n",
    "# One hot encoding of outputs\n",
    "y = to_categorical(y)"
   ]
  },
  {
   "cell_type": "code",
   "execution_count": 4,
   "metadata": {},
   "outputs": [],
   "source": [
    "def getModel():\n",
    "    input_target = Input(shape=(max_length_target,))\n",
    "    emb_target = Embedding(21, 128, input_length=1000)(input_target) \n",
    "    conv_target_1 = Conv1D(filters=32, kernel_size=3, padding='same', activation='relu')(emb_target)\n",
    "    pool_target_1 = MaxPooling1D(pool_size=2)(conv_target_1)\n",
    "    flatten_target = Flatten()(pool_target_1)\n",
    "\n",
    "    input_drug = Input(shape=(max_length_drug,))\n",
    "    emb_drug = Embedding(44, 128, input_length=150)(input_drug) \n",
    "    conv_drug_1 = Conv1D(filters=32, kernel_size=3, padding='same', activation='relu')(emb_drug)\n",
    "    pool_drug_1 = MaxPooling1D(pool_size=2)(conv_drug_1)\n",
    "    flatten_drug = Flatten()(pool_drug_1)\n",
    "\n",
    "    concat = Concatenate()([flatten_target, flatten_drug])\n",
    "\n",
    "    dense_1 = Dense(512, activation = 'relu',kernel_initializer='glorot_normal')(concat)\n",
    "    #dense_1_dropout = Dropout(0.1)(dense_1)\n",
    "    dense_2 = Dense(512, activation = 'relu',kernel_initializer='glorot_normal')(dense_1)\n",
    "    #dense_3 = Dense(512, activation = 'relu',kernel_initializer='glorot_normal')(dense_2)\n",
    "    dense_2_dropout = Dropout(0.4)(dense_2)\n",
    "\n",
    "    x_output = Dense(3, activation='softmax')(dense_2_dropout)\n",
    "\n",
    "    # Bulid and compile model\n",
    "    model = Model(inputs=[input_target, input_drug], outputs=x_output)\n",
    "    model.compile(optimizer='adam', loss='categorical_crossentropy', metrics=['accuracy'])\n",
    "    return model"
   ]
  },
  {
   "cell_type": "code",
   "execution_count": 7,
   "metadata": {
    "tags": []
   },
   "outputs": [
    {
     "output_type": "stream",
     "name": "stdout",
     "text": "Epoch 1/500\n155/155 [==============================] - ETA: 0s - loss: 0.9062 - accuracy: 0.5573\nEpoch 00001: val_loss improved from inf to 0.82549, saving model to checkpoints\\CD101T10_RIVAL_cp_0.hdf5\n155/155 [==============================] - 130s 840ms/step - loss: 0.9062 - accuracy: 0.5573 - val_loss: 0.8255 - val_accuracy: 0.6174\nEpoch 2/500\n155/155 [==============================] - ETA: 0s - loss: 0.7692 - accuracy: 0.6539\nEpoch 00002: val_loss improved from 0.82549 to 0.74913, saving model to checkpoints\\CD101T10_RIVAL_cp_0.hdf5\n155/155 [==============================] - 118s 763ms/step - loss: 0.7692 - accuracy: 0.6539 - val_loss: 0.7491 - val_accuracy: 0.6642\nEpoch 3/500\n155/155 [==============================] - ETA: 0s - loss: 0.6726 - accuracy: 0.7066\nEpoch 00003: val_loss improved from 0.74913 to 0.71964, saving model to checkpoints\\CD101T10_RIVAL_cp_0.hdf5\n155/155 [==============================] - 126s 814ms/step - loss: 0.6726 - accuracy: 0.7066 - val_loss: 0.7196 - val_accuracy: 0.6839\nEpoch 4/500\n155/155 [==============================] - ETA: 0s - loss: 0.5752 - accuracy: 0.7576\nEpoch 00004: val_loss improved from 0.71964 to 0.65604, saving model to checkpoints\\CD101T10_RIVAL_cp_0.hdf5\n155/155 [==============================] - 115s 743ms/step - loss: 0.5752 - accuracy: 0.7576 - val_loss: 0.6560 - val_accuracy: 0.7249\nEpoch 5/500\n155/155 [==============================] - ETA: 0s - loss: 0.4796 - accuracy: 0.8026\nEpoch 00005: val_loss improved from 0.65604 to 0.62094, saving model to checkpoints\\CD101T10_RIVAL_cp_0.hdf5\n155/155 [==============================] - 114s 738ms/step - loss: 0.4796 - accuracy: 0.8026 - val_loss: 0.6209 - val_accuracy: 0.7408\nEpoch 6/500\n155/155 [==============================] - ETA: 0s - loss: 0.3968 - accuracy: 0.8394\nEpoch 00006: val_loss did not improve from 0.62094\n155/155 [==============================] - 116s 746ms/step - loss: 0.3968 - accuracy: 0.8394 - val_loss: 0.6436 - val_accuracy: 0.7513\nEpoch 7/500\n155/155 [==============================] - ETA: 0s - loss: 0.3212 - accuracy: 0.8729\nEpoch 00007: val_loss did not improve from 0.62094\n155/155 [==============================] - 114s 739ms/step - loss: 0.3212 - accuracy: 0.8729 - val_loss: 0.6985 - val_accuracy: 0.7490\nEpoch 8/500\n155/155 [==============================] - ETA: 0s - loss: 0.2612 - accuracy: 0.8981\nEpoch 00008: val_loss did not improve from 0.62094\n155/155 [==============================] - 114s 737ms/step - loss: 0.2612 - accuracy: 0.8981 - val_loss: 0.7202 - val_accuracy: 0.7621\nEpoch 9/500\n155/155 [==============================] - ETA: 0s - loss: 0.2158 - accuracy: 0.9164\nEpoch 00009: val_loss did not improve from 0.62094\n155/155 [==============================] - 111s 718ms/step - loss: 0.2158 - accuracy: 0.9164 - val_loss: 0.7784 - val_accuracy: 0.7650\nEpoch 10/500\n155/155 [==============================] - ETA: 0s - loss: 0.1964 - accuracy: 0.9253\nEpoch 00010: val_loss did not improve from 0.62094\n155/155 [==============================] - 110s 709ms/step - loss: 0.1964 - accuracy: 0.9253 - val_loss: 0.8176 - val_accuracy: 0.7548\nEpoch 00010: early stopping\n\nEvaluate on test data\n49/49 [==============================] - 9s 194ms/step - loss: 0.6115 - accuracy: 0.7477\nEpoch 1/500\n155/155 [==============================] - ETA: 0s - loss: 0.9019 - accuracy: 0.5618\nEpoch 00001: val_loss improved from inf to 0.82102, saving model to checkpoints\\CD101T10_RIVAL_cp_1.hdf5\n155/155 [==============================] - 139s 897ms/step - loss: 0.9019 - accuracy: 0.5618 - val_loss: 0.8210 - val_accuracy: 0.6194\nEpoch 2/500\n155/155 [==============================] - ETA: 0s - loss: 0.7676 - accuracy: 0.6522\nEpoch 00002: val_loss improved from 0.82102 to 0.76480, saving model to checkpoints\\CD101T10_RIVAL_cp_1.hdf5\n155/155 [==============================] - 128s 827ms/step - loss: 0.7676 - accuracy: 0.6522 - val_loss: 0.7648 - val_accuracy: 0.6563\nEpoch 3/500\n155/155 [==============================] - ETA: 0s - loss: 0.6692 - accuracy: 0.7096\nEpoch 00003: val_loss improved from 0.76480 to 0.67922, saving model to checkpoints\\CD101T10_RIVAL_cp_1.hdf5\n155/155 [==============================] - 128s 825ms/step - loss: 0.6692 - accuracy: 0.7096 - val_loss: 0.6792 - val_accuracy: 0.7055\nEpoch 4/500\n155/155 [==============================] - ETA: 0s - loss: 0.5689 - accuracy: 0.7599\nEpoch 00004: val_loss improved from 0.67922 to 0.63736, saving model to checkpoints\\CD101T10_RIVAL_cp_1.hdf5\n155/155 [==============================] - 126s 810ms/step - loss: 0.5689 - accuracy: 0.7599 - val_loss: 0.6374 - val_accuracy: 0.7264\nEpoch 5/500\n155/155 [==============================] - ETA: 0s - loss: 0.4717 - accuracy: 0.8081\nEpoch 00005: val_loss improved from 0.63736 to 0.61992, saving model to checkpoints\\CD101T10_RIVAL_cp_1.hdf5\n155/155 [==============================] - 126s 816ms/step - loss: 0.4717 - accuracy: 0.8081 - val_loss: 0.6199 - val_accuracy: 0.7487\nEpoch 6/500\n155/155 [==============================] - ETA: 0s - loss: 0.3895 - accuracy: 0.8434\nEpoch 00006: val_loss did not improve from 0.61992\n155/155 [==============================] - 126s 815ms/step - loss: 0.3895 - accuracy: 0.8434 - val_loss: 0.6282 - val_accuracy: 0.7531\nEpoch 7/500\n155/155 [==============================] - ETA: 0s - loss: 0.3154 - accuracy: 0.8750\nEpoch 00007: val_loss did not improve from 0.61992\n155/155 [==============================] - 130s 840ms/step - loss: 0.3154 - accuracy: 0.8750 - val_loss: 0.6546 - val_accuracy: 0.7606\nEpoch 8/500\n155/155 [==============================] - ETA: 0s - loss: 0.2641 - accuracy: 0.8969\nEpoch 00008: val_loss did not improve from 0.61992\n155/155 [==============================] - 131s 848ms/step - loss: 0.2641 - accuracy: 0.8969 - val_loss: 0.7143 - val_accuracy: 0.7616\nEpoch 9/500\n155/155 [==============================] - ETA: 0s - loss: 0.2126 - accuracy: 0.9173\nEpoch 00009: val_loss did not improve from 0.61992\n155/155 [==============================] - 131s 844ms/step - loss: 0.2126 - accuracy: 0.9173 - val_loss: 0.7640 - val_accuracy: 0.7641\nEpoch 10/500\n155/155 [==============================] - ETA: 0s - loss: 0.1727 - accuracy: 0.9335\nEpoch 00010: val_loss did not improve from 0.61992\n155/155 [==============================] - 131s 848ms/step - loss: 0.1727 - accuracy: 0.9335 - val_loss: 0.8520 - val_accuracy: 0.7555\nEpoch 00010: early stopping\n\nEvaluate on test data\n49/49 [==============================] - 12s 243ms/step - loss: 0.6282 - accuracy: 0.7454\nEpoch 1/500\n155/155 [==============================] - ETA: 0s - loss: 0.8805 - accuracy: 0.5791\nEpoch 00001: val_loss improved from inf to 0.80613, saving model to checkpoints\\CD101T10_RIVAL_cp_2.hdf5\n155/155 [==============================] - 149s 962ms/step - loss: 0.8805 - accuracy: 0.5791 - val_loss: 0.8061 - val_accuracy: 0.6278\nEpoch 2/500\n155/155 [==============================] - ETA: 0s - loss: 0.7568 - accuracy: 0.6598\nEpoch 00002: val_loss improved from 0.80613 to 0.73408, saving model to checkpoints\\CD101T10_RIVAL_cp_2.hdf5\n155/155 [==============================] - 144s 932ms/step - loss: 0.7568 - accuracy: 0.6598 - val_loss: 0.7341 - val_accuracy: 0.6726\nEpoch 3/500\n155/155 [==============================] - ETA: 0s - loss: 0.6464 - accuracy: 0.7195\nEpoch 00003: val_loss improved from 0.73408 to 0.66055, saving model to checkpoints\\CD101T10_RIVAL_cp_2.hdf5\n155/155 [==============================] - 140s 906ms/step - loss: 0.6464 - accuracy: 0.7195 - val_loss: 0.6606 - val_accuracy: 0.7139\nEpoch 4/500\n155/155 [==============================] - ETA: 0s - loss: 0.5299 - accuracy: 0.7803\nEpoch 00004: val_loss improved from 0.66055 to 0.63337, saving model to checkpoints\\CD101T10_RIVAL_cp_2.hdf5\n155/155 [==============================] - 143s 922ms/step - loss: 0.5299 - accuracy: 0.7803 - val_loss: 0.6334 - val_accuracy: 0.7340\nEpoch 5/500\n155/155 [==============================] - ETA: 0s - loss: 0.4267 - accuracy: 0.8283\nEpoch 00005: val_loss improved from 0.63337 to 0.61846, saving model to checkpoints\\CD101T10_RIVAL_cp_2.hdf5\n155/155 [==============================] - 147s 946ms/step - loss: 0.4267 - accuracy: 0.8283 - val_loss: 0.6185 - val_accuracy: 0.7468\nEpoch 6/500\n155/155 [==============================] - ETA: 0s - loss: 0.3448 - accuracy: 0.8618\nEpoch 00006: val_loss did not improve from 0.61846\n155/155 [==============================] - 119s 767ms/step - loss: 0.3448 - accuracy: 0.8618 - val_loss: 0.6783 - val_accuracy: 0.7467\nEpoch 7/500\n155/155 [==============================] - ETA: 0s - loss: 0.2677 - accuracy: 0.8947\nEpoch 00007: val_loss did not improve from 0.61846\n155/155 [==============================] - 126s 810ms/step - loss: 0.2677 - accuracy: 0.8947 - val_loss: 0.7462 - val_accuracy: 0.7496\nEpoch 8/500\n155/155 [==============================] - ETA: 0s - loss: 0.2154 - accuracy: 0.9176\nEpoch 00008: val_loss did not improve from 0.61846\n155/155 [==============================] - 121s 783ms/step - loss: 0.2154 - accuracy: 0.9176 - val_loss: 0.8030 - val_accuracy: 0.7579\nEpoch 9/500\n155/155 [==============================] - ETA: 0s - loss: 0.1724 - accuracy: 0.9347\nEpoch 00009: val_loss did not improve from 0.61846\n155/155 [==============================] - 118s 760ms/step - loss: 0.1724 - accuracy: 0.9347 - val_loss: 0.8497 - val_accuracy: 0.7547\nEpoch 10/500\n155/155 [==============================] - ETA: 0s - loss: 0.1633 - accuracy: 0.9390\nEpoch 00010: val_loss did not improve from 0.61846\n155/155 [==============================] - 123s 795ms/step - loss: 0.1633 - accuracy: 0.9390 - val_loss: 0.8875 - val_accuracy: 0.7571\nEpoch 00010: early stopping\n\nEvaluate on test data\n49/49 [==============================] - 10s 210ms/step - loss: 0.6138 - accuracy: 0.7498\nEpoch 1/500\n155/155 [==============================] - ETA: 0s - loss: 0.9114 - accuracy: 0.5581\nEpoch 00001: val_loss improved from inf to 0.81436, saving model to checkpoints\\CD101T10_RIVAL_cp_3.hdf5\n155/155 [==============================] - 125s 809ms/step - loss: 0.9114 - accuracy: 0.5581 - val_loss: 0.8144 - val_accuracy: 0.6205\nEpoch 2/500\n155/155 [==============================] - ETA: 0s - loss: 0.7750 - accuracy: 0.6506\nEpoch 00002: val_loss improved from 0.81436 to 0.74572, saving model to checkpoints\\CD101T10_RIVAL_cp_3.hdf5\n155/155 [==============================] - 125s 805ms/step - loss: 0.7750 - accuracy: 0.6506 - val_loss: 0.7457 - val_accuracy: 0.6609\nEpoch 3/500\n155/155 [==============================] - ETA: 0s - loss: 0.6783 - accuracy: 0.7071\nEpoch 00003: val_loss improved from 0.74572 to 0.69484, saving model to checkpoints\\CD101T10_RIVAL_cp_3.hdf5\n155/155 [==============================] - 124s 800ms/step - loss: 0.6783 - accuracy: 0.7071 - val_loss: 0.6948 - val_accuracy: 0.6944\nEpoch 4/500\n155/155 [==============================] - ETA: 0s - loss: 0.5821 - accuracy: 0.7535\nEpoch 00004: val_loss improved from 0.69484 to 0.64689, saving model to checkpoints\\CD101T10_RIVAL_cp_3.hdf5\n155/155 [==============================] - 124s 799ms/step - loss: 0.5821 - accuracy: 0.7535 - val_loss: 0.6469 - val_accuracy: 0.7233\nEpoch 5/500\n155/155 [==============================] - ETA: 0s - loss: 0.4923 - accuracy: 0.7963\nEpoch 00005: val_loss improved from 0.64689 to 0.61717, saving model to checkpoints\\CD101T10_RIVAL_cp_3.hdf5\n155/155 [==============================] - 116s 747ms/step - loss: 0.4923 - accuracy: 0.7963 - val_loss: 0.6172 - val_accuracy: 0.7459\nEpoch 6/500\n155/155 [==============================] - ETA: 0s - loss: 0.4127 - accuracy: 0.8350\nEpoch 00006: val_loss did not improve from 0.61717\n155/155 [==============================] - 114s 735ms/step - loss: 0.4127 - accuracy: 0.8350 - val_loss: 0.6188 - val_accuracy: 0.7525\nEpoch 7/500\n155/155 [==============================] - ETA: 0s - loss: 0.3390 - accuracy: 0.8670\nEpoch 00007: val_loss did not improve from 0.61717\n155/155 [==============================] - 114s 736ms/step - loss: 0.3390 - accuracy: 0.8670 - val_loss: 0.6480 - val_accuracy: 0.7575\nEpoch 8/500\n155/155 [==============================] - ETA: 0s - loss: 0.2741 - accuracy: 0.8952\nEpoch 00008: val_loss did not improve from 0.61717\n155/155 [==============================] - 115s 739ms/step - loss: 0.2741 - accuracy: 0.8952 - val_loss: 0.7052 - val_accuracy: 0.7643\nEpoch 9/500\n155/155 [==============================] - ETA: 0s - loss: 0.2344 - accuracy: 0.9080\nEpoch 00009: val_loss did not improve from 0.61717\n155/155 [==============================] - 114s 734ms/step - loss: 0.2344 - accuracy: 0.9080 - val_loss: 0.7278 - val_accuracy: 0.7601\nEpoch 10/500\n155/155 [==============================] - ETA: 0s - loss: 0.1977 - accuracy: 0.9259\nEpoch 00010: val_loss did not improve from 0.61717\n155/155 [==============================] - 118s 762ms/step - loss: 0.1977 - accuracy: 0.9259 - val_loss: 0.8586 - val_accuracy: 0.7575\nEpoch 00010: early stopping\n\nEvaluate on test data\n49/49 [==============================] - 10s 209ms/step - loss: 0.6442 - accuracy: 0.7284\nEpoch 1/500\n155/155 [==============================] - ETA: 0s - loss: 0.9005 - accuracy: 0.5643\nEpoch 00001: val_loss improved from inf to 0.82539, saving model to checkpoints\\CD101T10_RIVAL_cp_4.hdf5\n155/155 [==============================] - 120s 772ms/step - loss: 0.9005 - accuracy: 0.5643 - val_loss: 0.8254 - val_accuracy: 0.6257\nEpoch 2/500\n155/155 [==============================] - ETA: 0s - loss: 0.7659 - accuracy: 0.6564\nEpoch 00002: val_loss improved from 0.82539 to 0.73609, saving model to checkpoints\\CD101T10_RIVAL_cp_4.hdf5\n155/155 [==============================] - 119s 768ms/step - loss: 0.7659 - accuracy: 0.6564 - val_loss: 0.7361 - val_accuracy: 0.6779\nEpoch 3/500\n155/155 [==============================] - ETA: 0s - loss: 0.6657 - accuracy: 0.7098\nEpoch 00003: val_loss improved from 0.73609 to 0.67802, saving model to checkpoints\\CD101T10_RIVAL_cp_4.hdf5\n155/155 [==============================] - 118s 763ms/step - loss: 0.6657 - accuracy: 0.7098 - val_loss: 0.6780 - val_accuracy: 0.7095\nEpoch 4/500\n155/155 [==============================] - ETA: 0s - loss: 0.5563 - accuracy: 0.7628\nEpoch 00004: val_loss improved from 0.67802 to 0.64966, saving model to checkpoints\\CD101T10_RIVAL_cp_4.hdf5\n155/155 [==============================] - 118s 763ms/step - loss: 0.5563 - accuracy: 0.7628 - val_loss: 0.6497 - val_accuracy: 0.7340\nEpoch 5/500\n155/155 [==============================] - ETA: 0s - loss: 0.4575 - accuracy: 0.8121\nEpoch 00005: val_loss improved from 0.64966 to 0.62095, saving model to checkpoints\\CD101T10_RIVAL_cp_4.hdf5\n155/155 [==============================] - 116s 745ms/step - loss: 0.4575 - accuracy: 0.8121 - val_loss: 0.6209 - val_accuracy: 0.7499\nEpoch 6/500\n155/155 [==============================] - ETA: 0s - loss: 0.3762 - accuracy: 0.8484\nEpoch 00006: val_loss did not improve from 0.62095\n155/155 [==============================] - 112s 725ms/step - loss: 0.3762 - accuracy: 0.8484 - val_loss: 0.6368 - val_accuracy: 0.7668\nEpoch 7/500\n155/155 [==============================] - ETA: 0s - loss: 0.3025 - accuracy: 0.8811\nEpoch 00007: val_loss did not improve from 0.62095\n155/155 [==============================] - 112s 722ms/step - loss: 0.3025 - accuracy: 0.8811 - val_loss: 0.6555 - val_accuracy: 0.7584\nEpoch 8/500\n155/155 [==============================] - ETA: 0s - loss: 0.2437 - accuracy: 0.9048\nEpoch 00008: val_loss did not improve from 0.62095\n155/155 [==============================] - 112s 725ms/step - loss: 0.2437 - accuracy: 0.9048 - val_loss: 0.7165 - val_accuracy: 0.7621\nEpoch 9/500\n155/155 [==============================] - ETA: 0s - loss: 0.2053 - accuracy: 0.9231\nEpoch 00009: val_loss did not improve from 0.62095\n155/155 [==============================] - 112s 722ms/step - loss: 0.2053 - accuracy: 0.9231 - val_loss: 0.7738 - val_accuracy: 0.7672\nEpoch 10/500\n155/155 [==============================] - ETA: 0s - loss: 0.1618 - accuracy: 0.9389\nEpoch 00010: val_loss did not improve from 0.62095\n155/155 [==============================] - 112s 724ms/step - loss: 0.1618 - accuracy: 0.9389 - val_loss: 0.8424 - val_accuracy: 0.7619\nEpoch 00010: early stopping\n\nEvaluate on test data\n49/49 [==============================] - 10s 197ms/step - loss: 0.6250 - accuracy: 0.7458\n"
    }
   ],
   "source": [
    "from sklearn.model_selection import train_test_split\n",
    "CV = 5\n",
    "result_CV = {key: None for key in [0,1,2,3,4]}\n",
    "for i in range(CV):\n",
    "    # Split indics into train/test\n",
    "    indices = list(range(len(DTI_index)))\n",
    "    train_target, test_target, train_drug, test_drug, y_train, y_test = train_test_split(pad_target, pad_drug, y, test_size=0.2, random_state=i)\n",
    "\n",
    "    # Early Stopping & checkpoint\n",
    "    model = getModel()\n",
    "    es = EarlyStopping(monitor='val_loss', patience=5, verbose=1)\n",
    "    filepath='checkpoints/'+EXP+'_cp_'+str(i)+'.hdf5'\n",
    "    model_checkpoint = ModelCheckpoint(filepath, monitor='val_loss', verbose=1, save_best_only=True, mode='auto')\n",
    "    # reduce_lr_loss = ReduceLROnPlateau(monitor='val_loss', factor=0.3, patience=10, verbose=1, epsilon=1e-4, mode='min')\n",
    "\n",
    "    history = model.fit(\n",
    "        [train_target, train_drug], y_train,\n",
    "        epochs=500, batch_size=256,\n",
    "        validation_split=0.2,\n",
    "        callbacks=[es, model_checkpoint]\n",
    "        )\n",
    "    \n",
    "    # Load saved model\n",
    "    saved_model = tf.keras.models.load_model('checkpoints/'+EXP+'_cp_'+str(i)+'.hdf5')\n",
    "    # Evaluate the model on the test data using `evaluate`\n",
    "    print(\"\\nEvaluate on test data\")\n",
    "    res = saved_model.evaluate([test_target, test_drug], y_test, batch_size=256)\n",
    "    #print(\"test loss, test acc:\", results)\n",
    "\n",
    "    # Calculate ROC and PR characteristics\n",
    "    roc_auc, fpr, tpr = obj.roc(saved_model, y_test, a = test_target, b = test_drug)\n",
    "    precision, recall, average_precision = obj.aupr(saved_model, y_test, a = test_target, b = test_drug)\n",
    "    prediction = saved_model.predict([test_target, test_drug])\n",
    "    f1 = f1_score(np.argmax(y_test,axis=1), np.argmax(prediction,axis=1), average='macro')\n",
    "\n",
    "    keys = ['val_loss','val_accuracy','roc_auc','fpr','tpr','f1_score', 'precision','recall','average_precision']\n",
    "    result = {key: None for key in keys}\n",
    "\n",
    "    result['val_accuracy'] = res[1]\n",
    "    result['val_loss'] = res[0]\n",
    "    result['roc_auc'] = roc_auc\n",
    "    result['fpr'] = fpr\n",
    "    result['tpr'] = tpr\n",
    "    result['f1_score'] = f1\n",
    "    result['precision'] = precision\n",
    "    result['recall'] = recall\n",
    "    result['average_precision'] = average_precision\n",
    "\n",
    "    result_CV[i] = result\n",
    "\n",
    "    del model\n",
    "    del saved_model"
   ]
  },
  {
   "cell_type": "code",
   "execution_count": 8,
   "metadata": {},
   "outputs": [],
   "source": [
    "import pickle\n",
    "def save_obj(obj, name):\n",
    "    with open(name + '.pkl', 'wb') as f:\n",
    "        pickle.dump(obj, f, pickle.HIGHEST_PROTOCOL)\n",
    "\n",
    "def load_obj(name):\n",
    "    with open(name + '.pkl', 'rb') as f:\n",
    "        return pickle.load(f)"
   ]
  },
  {
   "cell_type": "code",
   "execution_count": 9,
   "metadata": {},
   "outputs": [],
   "source": [
    "save_obj(result_CV, EXP)"
   ]
  },
  {
   "cell_type": "code",
   "execution_count": 36,
   "metadata": {},
   "outputs": [],
   "source": [
    "r = load_obj(EXP)"
   ]
  },
  {
   "cell_type": "code",
   "execution_count": 41,
   "metadata": {
    "tags": []
   },
   "outputs": [
    {
     "output_type": "stream",
     "name": "stdout",
     "text": "{0: 0.8704663324526081, 1: 0.9126323423154684, 2: 0.8609045221412164}\n{0: 0.8714293179600154, 1: 0.9076396735938038, 2: 0.8579634669071158}\n{0: 0.870653095521205, 1: 0.9062184528935093, 2: 0.8555164781652171}\n{0: 0.8584942793231485, 1: 0.8906391873609504, 2: 0.8414695228047079}\n{0: 0.8558714909270939, 1: 0.8968665398703368, 2: 0.8452278669845039}\n"
    }
   ],
   "source": [
    "for i in r:\n",
    "    print(r[i]['roc_auc'])"
   ]
  }
 ]
}