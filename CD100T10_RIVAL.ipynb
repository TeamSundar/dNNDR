{
 "metadata": {
  "language_info": {
   "codemirror_mode": {
    "name": "ipython",
    "version": 3
   },
   "file_extension": ".py",
   "mimetype": "text/x-python",
   "name": "python",
   "nbconvert_exporter": "python",
   "pygments_lexer": "ipython3",
   "version": "3.7.4-final"
  },
  "orig_nbformat": 2,
  "kernelspec": {
   "name": "python_defaultSpec_1597519490479",
   "display_name": "Python 3.7.4 64-bit"
  }
 },
 "nbformat": 4,
 "nbformat_minor": 2,
 "cells": [
  {
   "cell_type": "code",
   "execution_count": 8,
   "metadata": {},
   "outputs": [],
   "source": [
    "import os\n",
    "import gc\n",
    "\n",
    "import numpy as np\n",
    "import pandas as pd\n",
    "import matplotlib.pyplot as plt\n",
    "import seaborn as sns\n",
    "import collections\n",
    "\n",
    "from tqdm import tqdm\n",
    "from functions import ANALYSIS\n",
    "from architecture import ARCHITECTURE\n",
    "import architecture\n",
    "\n",
    "from collections import Counter\n",
    "from IPython.display import Image\n",
    "\n",
    "from sklearn.preprocessing import LabelEncoder\n",
    "from tensorflow.keras.callbacks import ModelCheckpoint, EarlyStopping, ReduceLROnPlateau\n",
    "from tensorflow.keras.models import *\n",
    "from tensorflow.keras.layers import *\n",
    "#from tensorflow.compat.v1.keras.layers import CuDNLSTM\n",
    "from tensorflow.keras.preprocessing.sequence import pad_sequences\n",
    "from tensorflow.keras.utils import to_categorical\n",
    "\n",
    "import tensorflow.keras.backend as K\n",
    "import keras\n",
    "\n",
    "from tensorflow.compat.v1 import ConfigProto\n",
    "from tensorflow.compat.v1 import InteractiveSession\n",
    "import tensorflow as tf\n",
    "\n",
    "config = ConfigProto()\n",
    "config.gpu_options.allow_growth = True\n",
    "session = InteractiveSession(config=config)\n",
    "\n",
    "EXP = 'CD101T10_RIVAL'\n",
    "\n",
    "obj = ANALYSIS(EXP)\n",
    "arch_obj = ARCHITECTURE()"
   ]
  },
  {
   "cell_type": "code",
   "execution_count": 2,
   "metadata": {},
   "outputs": [],
   "source": [
    "P = pd.read_csv('data/ProtSeqForModel.csv')\n",
    "D = pd.read_csv('data/DrugSeqForModel.csv')\n",
    "des_drug = np.load('data/DrugDesForModel.npy')\n",
    "\n",
    "drug_smiles=pd.read_csv('data/drug_smiles.csv')[['drug','smile','seq_char_count']]\n",
    "DTI_index=pd.read_csv('data/DTI_index.csv')[['target','drug','IC50','unit','activity','target_uniprot']]"
   ]
  },
  {
   "cell_type": "code",
   "execution_count": 3,
   "metadata": {},
   "outputs": [],
   "source": [
    "# Encode amino acides and smile characters\n",
    "codes_target = ['A', 'C', 'D', 'E', 'F', 'G', 'H', 'I', 'K', 'L',\n",
    "         'M', 'N', 'P', 'Q', 'R', 'S', 'T', 'V', 'W', 'Y']\n",
    "char_dict_target = obj.create_dict(codes_target)\n",
    "\n",
    "codes_drug = [char for char in ''.join(set(''.join(drug_smiles['smile'].values)))]\n",
    "char_dict_drug = obj.create_dict(codes_drug)\n",
    "\n",
    "encode_target = obj.integer_encoding(P, char_dict_target) \n",
    "encode_drug = obj.integer_encoding(D, char_dict_drug) \n",
    "\n",
    "# padding sequences\n",
    "max_length_target = 1000\n",
    "max_length_drug = 150\n",
    "pad_target = pad_sequences(encode_target, maxlen=max_length_target, padding='post', truncating='post')\n",
    "pad_drug = pad_sequences(encode_drug, maxlen=max_length_drug, padding='post', truncating='post')\n",
    "\n",
    "# label/integer encoding output variable: (y)\n",
    "le = LabelEncoder()\n",
    "y = le.fit_transform(DTI_index['activity'].tolist())\n",
    "# One hot encoding of outputs\n",
    "y = to_categorical(y)"
   ]
  },
  {
   "cell_type": "code",
   "execution_count": 5,
   "metadata": {},
   "outputs": [],
   "source": [
    "def getModel():\n",
    "    input_target = Input(shape=(max_length_target,))\n",
    "    emb_target = Embedding(21, 128, input_length=1000)(input_target) \n",
    "    conv_target_1 = Conv1D(filters=32, kernel_size=3, padding='same', activation='relu')(emb_target)\n",
    "    pool_target_1 = MaxPooling1D(pool_size=2)(conv_target_1)\n",
    "    flatten_target = Flatten()(pool_target_1)\n",
    "\n",
    "    input_drug = Input(shape=(max_length_drug,))\n",
    "    emb_drug = Embedding(44, 128, input_length=150)(input_drug) \n",
    "    conv_drug_1 = Conv1D(filters=32, kernel_size=3, padding='same', activation='relu')(emb_drug)\n",
    "    pool_drug_1 = MaxPooling1D(pool_size=2)(conv_drug_1)\n",
    "    flatten_drug = Flatten()(pool_drug_1)\n",
    "\n",
    "    concat = Concatenate()([flatten_target, flatten_drug])\n",
    "\n",
    "    dense_1 = Dense(512, activation = 'relu',kernel_initializer='glorot_normal')(concat)\n",
    "    #dense_1_dropout = Dropout(0.1)(dense_1)\n",
    "    dense_2 = Dense(512, activation = 'relu',kernel_initializer='glorot_normal')(dense_1)\n",
    "    #dense_3 = Dense(512, activation = 'relu',kernel_initializer='glorot_normal')(dense_2)\n",
    "    dense_2_dropout = Dropout(0.4)(dense_2)\n",
    "\n",
    "    x_output = Dense(3, activation='softmax')(dense_2_dropout)\n",
    "\n",
    "    # Bulid and compile model\n",
    "    model = Model(inputs=[input_target, input_drug], outputs=x_output)\n",
    "    model.compile(optimizer='adam', loss='categorical_crossentropy', metrics=['accuracy'])\n",
    "    return model"
   ]
  },
  {
   "cell_type": "code",
   "execution_count": 17,
   "metadata": {
    "tags": []
   },
   "outputs": [
    {
     "output_type": "stream",
     "name": "stdout",
     "text": "Epoch 1/500\n155/155 [==============================] - ETA: 0s - loss: 0.9037 - accuracy: 0.5608\nEpoch 00001: val_loss improved from inf to 0.82706, saving model to checkpoints\\CD101T10_RIVAL_cp_0.hdf5\n155/155 [==============================] - 97s 624ms/step - loss: 0.9037 - accuracy: 0.5608 - val_loss: 0.8271 - val_accuracy: 0.6217\nEpoch 2/500\n155/155 [==============================] - ETA: 0s - loss: 0.7709 - accuracy: 0.6532\nEpoch 00002: val_loss improved from 0.82706 to 0.75711, saving model to checkpoints\\CD101T10_RIVAL_cp_0.hdf5\n155/155 [==============================] - 94s 606ms/step - loss: 0.7709 - accuracy: 0.6532 - val_loss: 0.7571 - val_accuracy: 0.6620\nEpoch 3/500\n155/155 [==============================] - ETA: 0s - loss: 0.6715 - accuracy: 0.7087\nEpoch 00003: val_loss improved from 0.75711 to 0.69433, saving model to checkpoints\\CD101T10_RIVAL_cp_0.hdf5\n155/155 [==============================] - 95s 610ms/step - loss: 0.6715 - accuracy: 0.7087 - val_loss: 0.6943 - val_accuracy: 0.6977\nEpoch 4/500\n155/155 [==============================] - ETA: 0s - loss: 0.5708 - accuracy: 0.7614\nEpoch 00004: val_loss improved from 0.69433 to 0.64476, saving model to checkpoints\\CD101T10_RIVAL_cp_0.hdf5\n155/155 [==============================] - 102s 658ms/step - loss: 0.5708 - accuracy: 0.7614 - val_loss: 0.6448 - val_accuracy: 0.7279\nEpoch 5/500\n155/155 [==============================] - ETA: 0s - loss: 0.4698 - accuracy: 0.8055\nEpoch 00005: val_loss did not improve from 0.64476\n155/155 [==============================] - 93s 597ms/step - loss: 0.4698 - accuracy: 0.8055 - val_loss: 0.6682 - val_accuracy: 0.7371\nEpoch 6/500\n155/155 [==============================] - ETA: 0s - loss: 0.3870 - accuracy: 0.8451\nEpoch 00006: val_loss improved from 0.64476 to 0.62096, saving model to checkpoints\\CD101T10_RIVAL_cp_0.hdf5\n155/155 [==============================] - 94s 607ms/step - loss: 0.3870 - accuracy: 0.8451 - val_loss: 0.6210 - val_accuracy: 0.7568\nEpoch 7/500\n155/155 [==============================] - ETA: 0s - loss: 0.3066 - accuracy: 0.8790\nEpoch 00007: val_loss did not improve from 0.62096\n155/155 [==============================] - 95s 611ms/step - loss: 0.3066 - accuracy: 0.8790 - val_loss: 0.6733 - val_accuracy: 0.7574\nEpoch 8/500\n155/155 [==============================] - ETA: 0s - loss: 0.2470 - accuracy: 0.9053\nEpoch 00008: val_loss did not improve from 0.62096\n155/155 [==============================] - 98s 631ms/step - loss: 0.2470 - accuracy: 0.9053 - val_loss: 0.7210 - val_accuracy: 0.7574\nEpoch 9/500\n155/155 [==============================] - ETA: 0s - loss: 0.1972 - accuracy: 0.9252\nEpoch 00009: val_loss did not improve from 0.62096\n155/155 [==============================] - 87s 562ms/step - loss: 0.1972 - accuracy: 0.9252 - val_loss: 0.7774 - val_accuracy: 0.7664\nEpoch 10/500\n155/155 [==============================] - ETA: 0s - loss: 0.1575 - accuracy: 0.9410\nEpoch 00010: val_loss did not improve from 0.62096\n155/155 [==============================] - 88s 565ms/step - loss: 0.1575 - accuracy: 0.9410 - val_loss: 0.8815 - val_accuracy: 0.7639\nEpoch 11/500\n155/155 [==============================] - ETA: 0s - loss: 0.1298 - accuracy: 0.9512\nEpoch 00011: val_loss did not improve from 0.62096\n155/155 [==============================] - 87s 563ms/step - loss: 0.1298 - accuracy: 0.9512 - val_loss: 0.9705 - val_accuracy: 0.7557\nEpoch 00011: early stopping\n\nEvaluate on test data\n49/49 [==============================] - 7s 140ms/step - loss: 0.6202 - accuracy: 0.7528\nEpoch 1/500\n155/155 [==============================] - ETA: 0s - loss: 0.9143 - accuracy: 0.5537\nEpoch 00001: val_loss improved from inf to 0.83744, saving model to checkpoints\\CD101T10_RIVAL_cp_1.hdf5\n155/155 [==============================] - 89s 576ms/step - loss: 0.9143 - accuracy: 0.5537 - val_loss: 0.8374 - val_accuracy: 0.6120\nEpoch 2/500\n155/155 [==============================] - ETA: 0s - loss: 0.7770 - accuracy: 0.6486\nEpoch 00002: val_loss improved from 0.83744 to 0.75522, saving model to checkpoints\\CD101T10_RIVAL_cp_1.hdf5\n155/155 [==============================] - 88s 570ms/step - loss: 0.7770 - accuracy: 0.6486 - val_loss: 0.7552 - val_accuracy: 0.6637\nEpoch 3/500\n155/155 [==============================] - ETA: 0s - loss: 0.6717 - accuracy: 0.7052\nEpoch 00003: val_loss improved from 0.75522 to 0.67154, saving model to checkpoints\\CD101T10_RIVAL_cp_1.hdf5\n155/155 [==============================] - 90s 580ms/step - loss: 0.6717 - accuracy: 0.7052 - val_loss: 0.6715 - val_accuracy: 0.7072\nEpoch 4/500\n155/155 [==============================] - ETA: 0s - loss: 0.5607 - accuracy: 0.7654\nEpoch 00004: val_loss improved from 0.67154 to 0.64856, saving model to checkpoints\\CD101T10_RIVAL_cp_1.hdf5\n155/155 [==============================] - 84s 542ms/step - loss: 0.5607 - accuracy: 0.7654 - val_loss: 0.6486 - val_accuracy: 0.7208\nEpoch 5/500\n155/155 [==============================] - ETA: 0s - loss: 0.4618 - accuracy: 0.8111\nEpoch 00005: val_loss improved from 0.64856 to 0.63975, saving model to checkpoints\\CD101T10_RIVAL_cp_1.hdf5\n155/155 [==============================] - 84s 541ms/step - loss: 0.4618 - accuracy: 0.8111 - val_loss: 0.6397 - val_accuracy: 0.7484\nEpoch 6/500\n155/155 [==============================] - ETA: 0s - loss: 0.3750 - accuracy: 0.8513\nEpoch 00006: val_loss improved from 0.63975 to 0.63675, saving model to checkpoints\\CD101T10_RIVAL_cp_1.hdf5\n155/155 [==============================] - 84s 542ms/step - loss: 0.3750 - accuracy: 0.8513 - val_loss: 0.6368 - val_accuracy: 0.7522\nEpoch 7/500\n155/155 [==============================] - ETA: 0s - loss: 0.3017 - accuracy: 0.8801\nEpoch 00007: val_loss did not improve from 0.63675\n155/155 [==============================] - 83s 536ms/step - loss: 0.3017 - accuracy: 0.8801 - val_loss: 0.7128 - val_accuracy: 0.7535\nEpoch 8/500\n155/155 [==============================] - ETA: 0s - loss: 0.2542 - accuracy: 0.9000\nEpoch 00008: val_loss did not improve from 0.63675\n155/155 [==============================] - 83s 534ms/step - loss: 0.2542 - accuracy: 0.9000 - val_loss: 0.7806 - val_accuracy: 0.7544\nEpoch 9/500\n155/155 [==============================] - ETA: 0s - loss: 0.2003 - accuracy: 0.9228\nEpoch 00009: val_loss did not improve from 0.63675\n155/155 [==============================] - 83s 539ms/step - loss: 0.2003 - accuracy: 0.9228 - val_loss: 0.8106 - val_accuracy: 0.7505\nEpoch 10/500\n155/155 [==============================] - ETA: 0s - loss: 0.1731 - accuracy: 0.9344\nEpoch 00010: val_loss did not improve from 0.63675\n155/155 [==============================] - 83s 537ms/step - loss: 0.1731 - accuracy: 0.9344 - val_loss: 0.9240 - val_accuracy: 0.7493\nEpoch 11/500\n155/155 [==============================] - ETA: 0s - loss: 0.1414 - accuracy: 0.9472\nEpoch 00011: val_loss did not improve from 0.63675\n155/155 [==============================] - 83s 533ms/step - loss: 0.1414 - accuracy: 0.9472 - val_loss: 0.9532 - val_accuracy: 0.7614\nEpoch 00011: early stopping\n\nEvaluate on test data\n49/49 [==============================] - 7s 133ms/step - loss: 0.6417 - accuracy: 0.7474\nEpoch 1/500\n155/155 [==============================] - ETA: 0s - loss: 0.9003 - accuracy: 0.5659\nEpoch 00001: val_loss improved from inf to 0.83190, saving model to checkpoints\\CD101T10_RIVAL_cp_2.hdf5\n155/155 [==============================] - 85s 548ms/step - loss: 0.9003 - accuracy: 0.5659 - val_loss: 0.8319 - val_accuracy: 0.6060\nEpoch 2/500\n155/155 [==============================] - ETA: 0s - loss: 0.7663 - accuracy: 0.6554\nEpoch 00002: val_loss improved from 0.83190 to 0.73980, saving model to checkpoints\\CD101T10_RIVAL_cp_2.hdf5\n155/155 [==============================] - 84s 542ms/step - loss: 0.7663 - accuracy: 0.6554 - val_loss: 0.7398 - val_accuracy: 0.6637\nEpoch 3/500\n155/155 [==============================] - ETA: 0s - loss: 0.6568 - accuracy: 0.7123\nEpoch 00003: val_loss improved from 0.73980 to 0.67798, saving model to checkpoints\\CD101T10_RIVAL_cp_2.hdf5\n155/155 [==============================] - 84s 542ms/step - loss: 0.6568 - accuracy: 0.7123 - val_loss: 0.6780 - val_accuracy: 0.7006\nEpoch 4/500\n155/155 [==============================] - ETA: 0s - loss: 0.5475 - accuracy: 0.7700\nEpoch 00004: val_loss improved from 0.67798 to 0.65130, saving model to checkpoints\\CD101T10_RIVAL_cp_2.hdf5\n155/155 [==============================] - 84s 542ms/step - loss: 0.5475 - accuracy: 0.7700 - val_loss: 0.6513 - val_accuracy: 0.7335\nEpoch 5/500\n155/155 [==============================] - ETA: 0s - loss: 0.4568 - accuracy: 0.8129\nEpoch 00005: val_loss improved from 0.65130 to 0.61708, saving model to checkpoints\\CD101T10_RIVAL_cp_2.hdf5\n155/155 [==============================] - 84s 541ms/step - loss: 0.4568 - accuracy: 0.8129 - val_loss: 0.6171 - val_accuracy: 0.7448\nEpoch 6/500\n155/155 [==============================] - ETA: 0s - loss: 0.3713 - accuracy: 0.8513\nEpoch 00006: val_loss did not improve from 0.61708\n155/155 [==============================] - 83s 533ms/step - loss: 0.3713 - accuracy: 0.8513 - val_loss: 0.6305 - val_accuracy: 0.7507\nEpoch 7/500\n155/155 [==============================] - ETA: 0s - loss: 0.3048 - accuracy: 0.8813\nEpoch 00007: val_loss did not improve from 0.61708\n155/155 [==============================] - 82s 532ms/step - loss: 0.3048 - accuracy: 0.8813 - val_loss: 0.6950 - val_accuracy: 0.7520\nEpoch 8/500\n155/155 [==============================] - ETA: 0s - loss: 0.2399 - accuracy: 0.9084\nEpoch 00008: val_loss did not improve from 0.61708\n155/155 [==============================] - 83s 536ms/step - loss: 0.2399 - accuracy: 0.9084 - val_loss: 0.7404 - val_accuracy: 0.7614\nEpoch 9/500\n155/155 [==============================] - ETA: 0s - loss: 0.1961 - accuracy: 0.9250\nEpoch 00009: val_loss did not improve from 0.61708\n155/155 [==============================] - 82s 532ms/step - loss: 0.1961 - accuracy: 0.9250 - val_loss: 0.7947 - val_accuracy: 0.7541\nEpoch 10/500\n155/155 [==============================] - ETA: 0s - loss: 0.1676 - accuracy: 0.9383\nEpoch 00010: val_loss did not improve from 0.61708\n155/155 [==============================] - 83s 536ms/step - loss: 0.1676 - accuracy: 0.9383 - val_loss: 0.9112 - val_accuracy: 0.7468\nEpoch 00010: early stopping\n\nEvaluate on test data\n49/49 [==============================] - 6s 132ms/step - loss: 0.6169 - accuracy: 0.7460\nEpoch 1/500\n155/155 [==============================] - ETA: 0s - loss: 0.8856 - accuracy: 0.5787\nEpoch 00001: val_loss improved from inf to 0.81560, saving model to checkpoints\\CD101T10_RIVAL_cp_3.hdf5\n155/155 [==============================] - 87s 558ms/step - loss: 0.8856 - accuracy: 0.5787 - val_loss: 0.8156 - val_accuracy: 0.6227\nEpoch 2/500\n155/155 [==============================] - ETA: 0s - loss: 0.7617 - accuracy: 0.6578\nEpoch 00002: val_loss improved from 0.81560 to 0.73399, saving model to checkpoints\\CD101T10_RIVAL_cp_3.hdf5\n155/155 [==============================] - 86s 555ms/step - loss: 0.7617 - accuracy: 0.6578 - val_loss: 0.7340 - val_accuracy: 0.6661\nEpoch 3/500\n155/155 [==============================] - ETA: 0s - loss: 0.6504 - accuracy: 0.7180\nEpoch 00003: val_loss improved from 0.73399 to 0.65778, saving model to checkpoints\\CD101T10_RIVAL_cp_3.hdf5\n155/155 [==============================] - 86s 555ms/step - loss: 0.6504 - accuracy: 0.7180 - val_loss: 0.6578 - val_accuracy: 0.7129\nEpoch 4/500\n155/155 [==============================] - ETA: 0s - loss: 0.5356 - accuracy: 0.7775\nEpoch 00004: val_loss improved from 0.65778 to 0.63328, saving model to checkpoints\\CD101T10_RIVAL_cp_3.hdf5\n155/155 [==============================] - 93s 597ms/step - loss: 0.5356 - accuracy: 0.7775 - val_loss: 0.6333 - val_accuracy: 0.7337\nEpoch 5/500\n155/155 [==============================] - ETA: 0s - loss: 0.4319 - accuracy: 0.8261\nEpoch 00005: val_loss did not improve from 0.63328\n155/155 [==============================] - 113s 731ms/step - loss: 0.4319 - accuracy: 0.8261 - val_loss: 0.6443 - val_accuracy: 0.7454\nEpoch 6/500\n155/155 [==============================] - ETA: 0s - loss: 0.3487 - accuracy: 0.8620\nEpoch 00006: val_loss did not improve from 0.63328\n155/155 [==============================] - 116s 748ms/step - loss: 0.3487 - accuracy: 0.8620 - val_loss: 0.6334 - val_accuracy: 0.7608\nEpoch 7/500\n155/155 [==============================] - ETA: 0s - loss: 0.2709 - accuracy: 0.8936\nEpoch 00007: val_loss did not improve from 0.63328\n155/155 [==============================] - 99s 636ms/step - loss: 0.2709 - accuracy: 0.8936 - val_loss: 0.6694 - val_accuracy: 0.7658\nEpoch 8/500\n155/155 [==============================] - ETA: 0s - loss: 0.2286 - accuracy: 0.9112\nEpoch 00008: val_loss did not improve from 0.63328\n155/155 [==============================] - 101s 649ms/step - loss: 0.2286 - accuracy: 0.9112 - val_loss: 0.7805 - val_accuracy: 0.7672\nEpoch 9/500\n155/155 [==============================] - ETA: 0s - loss: 0.1766 - accuracy: 0.9315\nEpoch 00009: val_loss did not improve from 0.63328\n155/155 [==============================] - 99s 642ms/step - loss: 0.1766 - accuracy: 0.9315 - val_loss: 0.8170 - val_accuracy: 0.7697\nEpoch 00009: early stopping\n\nEvaluate on test data\n49/49 [==============================] - 7s 152ms/step - loss: 0.6515 - accuracy: 0.7257\nEpoch 1/500\n155/155 [==============================] - ETA: 0s - loss: 0.8998 - accuracy: 0.5663\nEpoch 00001: val_loss improved from inf to 0.81699, saving model to checkpoints\\CD101T10_RIVAL_cp_4.hdf5\n155/155 [==============================] - 100s 644ms/step - loss: 0.8998 - accuracy: 0.5663 - val_loss: 0.8170 - val_accuracy: 0.6248\nEpoch 2/500\n155/155 [==============================] - ETA: 0s - loss: 0.7705 - accuracy: 0.6508\nEpoch 00002: val_loss improved from 0.81699 to 0.75765, saving model to checkpoints\\CD101T10_RIVAL_cp_4.hdf5\n155/155 [==============================] - 99s 640ms/step - loss: 0.7705 - accuracy: 0.6508 - val_loss: 0.7577 - val_accuracy: 0.6549\nEpoch 3/500\n155/155 [==============================] - ETA: 0s - loss: 0.6655 - accuracy: 0.7103\nEpoch 00003: val_loss improved from 0.75765 to 0.68643, saving model to checkpoints\\CD101T10_RIVAL_cp_4.hdf5\n155/155 [==============================] - 108s 700ms/step - loss: 0.6655 - accuracy: 0.7103 - val_loss: 0.6864 - val_accuracy: 0.7015\nEpoch 4/500\n155/155 [==============================] - ETA: 0s - loss: 0.5645 - accuracy: 0.7626\nEpoch 00004: val_loss improved from 0.68643 to 0.62983, saving model to checkpoints\\CD101T10_RIVAL_cp_4.hdf5\n155/155 [==============================] - 105s 679ms/step - loss: 0.5645 - accuracy: 0.7626 - val_loss: 0.6298 - val_accuracy: 0.7363\nEpoch 5/500\n155/155 [==============================] - ETA: 0s - loss: 0.4667 - accuracy: 0.8077\nEpoch 00005: val_loss did not improve from 0.62983\n155/155 [==============================] - 97s 624ms/step - loss: 0.4667 - accuracy: 0.8077 - val_loss: 0.6416 - val_accuracy: 0.7434\nEpoch 6/500\n155/155 [==============================] - ETA: 0s - loss: 0.3774 - accuracy: 0.8463\nEpoch 00006: val_loss did not improve from 0.62983\n155/155 [==============================] - 100s 646ms/step - loss: 0.3774 - accuracy: 0.8463 - val_loss: 0.6512 - val_accuracy: 0.7542\nEpoch 7/500\n155/155 [==============================] - ETA: 0s - loss: 0.3146 - accuracy: 0.8727\nEpoch 00007: val_loss did not improve from 0.62983\n155/155 [==============================] - 95s 612ms/step - loss: 0.3146 - accuracy: 0.8727 - val_loss: 0.6978 - val_accuracy: 0.7588\nEpoch 8/500\n155/155 [==============================] - ETA: 0s - loss: 0.2540 - accuracy: 0.8977\nEpoch 00008: val_loss did not improve from 0.62983\n155/155 [==============================] - 94s 608ms/step - loss: 0.2540 - accuracy: 0.8977 - val_loss: 0.7187 - val_accuracy: 0.7605\nEpoch 9/500\n155/155 [==============================] - ETA: 0s - loss: 0.2120 - accuracy: 0.9188\nEpoch 00009: val_loss did not improve from 0.62983\n155/155 [==============================] - 104s 668ms/step - loss: 0.2120 - accuracy: 0.9188 - val_loss: 0.8064 - val_accuracy: 0.7675\nEpoch 00009: early stopping\n\nEvaluate on test data\n49/49 [==============================] - 8s 167ms/step - loss: 0.6309 - accuracy: 0.7314\n"
    }
   ],
   "source": [
    "from sklearn.model_selection import train_test_split\n",
    "CV = 5\n",
    "result_CV = {key: None for key in [0,1,2,3,4]}\n",
    "for i in range(CV):\n",
    "    # Split indics into train/test\n",
    "    indices = list(range(len(DTI_index)))\n",
    "    train_target, test_target, train_drug, test_drug, y_train, y_test = train_test_split(pad_target, pad_drug, y, test_size=0.2, random_state=i)\n",
    "\n",
    "    # Early Stopping & checkpoint\n",
    "    model = getModel()\n",
    "    es = EarlyStopping(monitor='val_loss', patience=5, verbose=1)\n",
    "    filepath='checkpoints/'+EXP+'_cp_'+str(i)+'.hdf5'\n",
    "    model_checkpoint = ModelCheckpoint(filepath, monitor='val_loss', verbose=1, save_best_only=True, mode='auto')\n",
    "    # reduce_lr_loss = ReduceLROnPlateau(monitor='val_loss', factor=0.3, patience=10, verbose=1, epsilon=1e-4, mode='min')\n",
    "\n",
    "    history = model.fit(\n",
    "        [train_target, train_drug], y_train,\n",
    "        epochs=500, batch_size=256,\n",
    "        validation_split=0.2,\n",
    "        callbacks=[es, model_checkpoint]\n",
    "        )\n",
    "    \n",
    "    # Load saved model\n",
    "    saved_model = tf.keras.models.load_model('checkpoints/'+EXP+'_cp_'+str(i)+'.hdf5')\n",
    "    # Evaluate the model on the test data using `evaluate`\n",
    "    print(\"\\nEvaluate on test data\")\n",
    "    res = saved_model.evaluate([test_target, test_drug], y_test, batch_size=256)\n",
    "    #print(\"test loss, test acc:\", results)\n",
    "\n",
    "    # Calculate ROC and PR characteristics\n",
    "    roc_auc, fpr, tpr = obj.roc(saved_model, y_test, a = test_target, b = test_drug)\n",
    "    precision, recall, average_precision = obj.aupr(saved_model, y_test, a = test_target, b = test_drug)\n",
    "\n",
    "    keys = ['val_accuracy','val_loss','roc_auc','fpr','tpr','precision','recall','average_precision']\n",
    "    result = {key: None for key in keys}\n",
    "\n",
    "    result['val_accuracy'] = res[1]\n",
    "    result['val_loss'] = res[0]\n",
    "    result['roc_auc'] = roc_auc\n",
    "    result['fpr'] = fpr\n",
    "    result['tpr'] = tpr\n",
    "    result['precision'] = precision\n",
    "    result['recall'] = recall\n",
    "    result['average_precision'] = average_precision\n",
    "\n",
    "    result_CV[i] = result\n",
    "\n",
    "    del model\n",
    "    del saved_model"
   ]
  },
  {
   "cell_type": "code",
   "execution_count": 33,
   "metadata": {},
   "outputs": [],
   "source": [
    "import pickle\n",
    "def save_obj(obj, name):\n",
    "    with open(name + '.pkl', 'wb') as f:\n",
    "        pickle.dump(obj, f, pickle.HIGHEST_PROTOCOL)\n",
    "\n",
    "def load_obj(name):\n",
    "    with open(name + '.pkl', 'rb') as f:\n",
    "        return pickle.load(f)"
   ]
  },
  {
   "cell_type": "code",
   "execution_count": 34,
   "metadata": {},
   "outputs": [],
   "source": [
    "save_obj(result_CV, EXP)"
   ]
  },
  {
   "cell_type": "code",
   "execution_count": 36,
   "metadata": {},
   "outputs": [],
   "source": [
    "r = load_obj(EXP)"
   ]
  },
  {
   "cell_type": "code",
   "execution_count": 41,
   "metadata": {
    "tags": []
   },
   "outputs": [
    {
     "output_type": "stream",
     "name": "stdout",
     "text": "{0: 0.8704663324526081, 1: 0.9126323423154684, 2: 0.8609045221412164}\n{0: 0.8714293179600154, 1: 0.9076396735938038, 2: 0.8579634669071158}\n{0: 0.870653095521205, 1: 0.9062184528935093, 2: 0.8555164781652171}\n{0: 0.8584942793231485, 1: 0.8906391873609504, 2: 0.8414695228047079}\n{0: 0.8558714909270939, 1: 0.8968665398703368, 2: 0.8452278669845039}\n"
    }
   ],
   "source": [
    "for i in r:\n",
    "    print(r[i]['roc_auc'])"
   ]
  }
 ]
}